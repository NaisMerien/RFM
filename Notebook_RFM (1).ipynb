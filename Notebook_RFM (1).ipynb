{
 "cells": [
  {
   "cell_type": "markdown",
   "id": "e5fe03e5",
   "metadata": {},
   "source": [
    "# Context du projet "
   ]
  },
  {
   "cell_type": "markdown",
   "id": "1ab8a6f4",
   "metadata": {},
   "source": [
    "Nous travaillons dans une agence data spécialisée dans le marketing."
   ]
  },
  {
   "cell_type": "markdown",
   "id": "7c6945e0",
   "metadata": {},
   "source": [
    "Projet e-commerce : \n",
    "- Nous devons faire un analyse de données pour comprendre le comportement des clients. \n",
    "- Notre client attend une segmentation RFM et un analyse par cohortes. \n",
    "- Nous disposons d'un dataset appelé db_customers.csv et de deux jours pour apporter une réponse (Jeudi 16h)."
   ]
  },
  {
   "cell_type": "markdown",
   "id": "6cdebcdc",
   "metadata": {},
   "source": [
    "# Import"
   ]
  },
  {
   "cell_type": "markdown",
   "id": "b39f8e64",
   "metadata": {},
   "source": [
    "## Import des librairies "
   ]
  },
  {
   "cell_type": "code",
   "execution_count": 181,
   "id": "f124aea5",
   "metadata": {},
   "outputs": [],
   "source": [
    "import pandas as pd\n",
    "import numpy as np \n",
    "import seaborn as sns\n",
    "import matplotlib.pyplot as plt\n",
    "\n",
    "# Time features\n",
    "from datetime import timedelta\n",
    "\n",
    "# TreeMap \n",
    "import squarify\n",
    "import plotly.express as px\n",
    "\n",
    "# Cohort\n",
    "from operator import attrgetter\n",
    "import matplotlib.colors as mcolors"
   ]
  },
  {
   "cell_type": "markdown",
   "id": "825bef78",
   "metadata": {},
   "source": [
    "## Import des données"
   ]
  },
  {
   "cell_type": "code",
   "execution_count": 182,
   "id": "3fee580a",
   "metadata": {
    "scrolled": true
   },
   "outputs": [],
   "source": [
    "df = pd.read_csv('data/db_customers.csv')"
   ]
  },
  {
   "cell_type": "code",
   "execution_count": 183,
   "id": "431e8fa8",
   "metadata": {
    "scrolled": true
   },
   "outputs": [
    {
     "data": {
      "text/html": [
       "<div>\n",
       "<style scoped>\n",
       "    .dataframe tbody tr th:only-of-type {\n",
       "        vertical-align: middle;\n",
       "    }\n",
       "\n",
       "    .dataframe tbody tr th {\n",
       "        vertical-align: top;\n",
       "    }\n",
       "\n",
       "    .dataframe thead th {\n",
       "        text-align: right;\n",
       "    }\n",
       "</style>\n",
       "<table border=\"1\" class=\"dataframe\">\n",
       "  <thead>\n",
       "    <tr style=\"text-align: right;\">\n",
       "      <th></th>\n",
       "      <th>Unnamed: 0</th>\n",
       "      <th>order_id</th>\n",
       "      <th>customer_id</th>\n",
       "      <th>order_status</th>\n",
       "      <th>order_purchase_timestamp</th>\n",
       "      <th>order_delivered_customer_date</th>\n",
       "      <th>payment_type</th>\n",
       "      <th>payment_installments</th>\n",
       "      <th>payment_value</th>\n",
       "      <th>review_score</th>\n",
       "      <th>customer_unique_id</th>\n",
       "      <th>customer_zip_code_prefix</th>\n",
       "      <th>customer_city</th>\n",
       "      <th>customer_state</th>\n",
       "      <th>product_category_name_english</th>\n",
       "    </tr>\n",
       "  </thead>\n",
       "  <tbody>\n",
       "    <tr>\n",
       "      <th>0</th>\n",
       "      <td>0</td>\n",
       "      <td>e481f51cbdc54678b7cc49136f2d6af7</td>\n",
       "      <td>9ef432eb6251297304e76186b10a928d</td>\n",
       "      <td>delivered</td>\n",
       "      <td>2017-10-02 10:56:33</td>\n",
       "      <td>2017-10-10 21:25:13</td>\n",
       "      <td>credit_card</td>\n",
       "      <td>1.0</td>\n",
       "      <td>18.12</td>\n",
       "      <td>4</td>\n",
       "      <td>7c396fd4830fd04220f754e42b4e5bff</td>\n",
       "      <td>3149</td>\n",
       "      <td>sao paulo</td>\n",
       "      <td>SP</td>\n",
       "      <td>housewares</td>\n",
       "    </tr>\n",
       "    <tr>\n",
       "      <th>1</th>\n",
       "      <td>1</td>\n",
       "      <td>e481f51cbdc54678b7cc49136f2d6af7</td>\n",
       "      <td>9ef432eb6251297304e76186b10a928d</td>\n",
       "      <td>delivered</td>\n",
       "      <td>2017-10-02 10:56:33</td>\n",
       "      <td>2017-10-10 21:25:13</td>\n",
       "      <td>voucher</td>\n",
       "      <td>1.0</td>\n",
       "      <td>2.00</td>\n",
       "      <td>4</td>\n",
       "      <td>7c396fd4830fd04220f754e42b4e5bff</td>\n",
       "      <td>3149</td>\n",
       "      <td>sao paulo</td>\n",
       "      <td>SP</td>\n",
       "      <td>housewares</td>\n",
       "    </tr>\n",
       "    <tr>\n",
       "      <th>2</th>\n",
       "      <td>2</td>\n",
       "      <td>e481f51cbdc54678b7cc49136f2d6af7</td>\n",
       "      <td>9ef432eb6251297304e76186b10a928d</td>\n",
       "      <td>delivered</td>\n",
       "      <td>2017-10-02 10:56:33</td>\n",
       "      <td>2017-10-10 21:25:13</td>\n",
       "      <td>voucher</td>\n",
       "      <td>1.0</td>\n",
       "      <td>18.59</td>\n",
       "      <td>4</td>\n",
       "      <td>7c396fd4830fd04220f754e42b4e5bff</td>\n",
       "      <td>3149</td>\n",
       "      <td>sao paulo</td>\n",
       "      <td>SP</td>\n",
       "      <td>housewares</td>\n",
       "    </tr>\n",
       "    <tr>\n",
       "      <th>3</th>\n",
       "      <td>3</td>\n",
       "      <td>53cdb2fc8bc7dce0b6741e2150273451</td>\n",
       "      <td>b0830fb4747a6c6d20dea0b8c802d7ef</td>\n",
       "      <td>delivered</td>\n",
       "      <td>2018-07-24 20:41:37</td>\n",
       "      <td>2018-08-07 15:27:45</td>\n",
       "      <td>boleto</td>\n",
       "      <td>1.0</td>\n",
       "      <td>141.46</td>\n",
       "      <td>4</td>\n",
       "      <td>af07308b275d755c9edb36a90c618231</td>\n",
       "      <td>47813</td>\n",
       "      <td>barreiras</td>\n",
       "      <td>BA</td>\n",
       "      <td>perfumery</td>\n",
       "    </tr>\n",
       "    <tr>\n",
       "      <th>4</th>\n",
       "      <td>4</td>\n",
       "      <td>47770eb9100c2d0c44946d9cf07ec65d</td>\n",
       "      <td>41ce2a54c0b03bf3443c3d931a367089</td>\n",
       "      <td>delivered</td>\n",
       "      <td>2018-08-08 08:38:49</td>\n",
       "      <td>2018-08-17 18:06:29</td>\n",
       "      <td>credit_card</td>\n",
       "      <td>3.0</td>\n",
       "      <td>179.12</td>\n",
       "      <td>5</td>\n",
       "      <td>3a653a41f6f9fc3d2a113cf8398680e8</td>\n",
       "      <td>75265</td>\n",
       "      <td>vianopolis</td>\n",
       "      <td>GO</td>\n",
       "      <td>auto</td>\n",
       "    </tr>\n",
       "  </tbody>\n",
       "</table>\n",
       "</div>"
      ],
      "text/plain": [
       "   Unnamed: 0                          order_id  \\\n",
       "0           0  e481f51cbdc54678b7cc49136f2d6af7   \n",
       "1           1  e481f51cbdc54678b7cc49136f2d6af7   \n",
       "2           2  e481f51cbdc54678b7cc49136f2d6af7   \n",
       "3           3  53cdb2fc8bc7dce0b6741e2150273451   \n",
       "4           4  47770eb9100c2d0c44946d9cf07ec65d   \n",
       "\n",
       "                        customer_id order_status order_purchase_timestamp  \\\n",
       "0  9ef432eb6251297304e76186b10a928d    delivered      2017-10-02 10:56:33   \n",
       "1  9ef432eb6251297304e76186b10a928d    delivered      2017-10-02 10:56:33   \n",
       "2  9ef432eb6251297304e76186b10a928d    delivered      2017-10-02 10:56:33   \n",
       "3  b0830fb4747a6c6d20dea0b8c802d7ef    delivered      2018-07-24 20:41:37   \n",
       "4  41ce2a54c0b03bf3443c3d931a367089    delivered      2018-08-08 08:38:49   \n",
       "\n",
       "  order_delivered_customer_date payment_type  payment_installments  \\\n",
       "0           2017-10-10 21:25:13  credit_card                   1.0   \n",
       "1           2017-10-10 21:25:13      voucher                   1.0   \n",
       "2           2017-10-10 21:25:13      voucher                   1.0   \n",
       "3           2018-08-07 15:27:45       boleto                   1.0   \n",
       "4           2018-08-17 18:06:29  credit_card                   3.0   \n",
       "\n",
       "   payment_value  review_score                customer_unique_id  \\\n",
       "0          18.12             4  7c396fd4830fd04220f754e42b4e5bff   \n",
       "1           2.00             4  7c396fd4830fd04220f754e42b4e5bff   \n",
       "2          18.59             4  7c396fd4830fd04220f754e42b4e5bff   \n",
       "3         141.46             4  af07308b275d755c9edb36a90c618231   \n",
       "4         179.12             5  3a653a41f6f9fc3d2a113cf8398680e8   \n",
       "\n",
       "   customer_zip_code_prefix customer_city customer_state  \\\n",
       "0                      3149     sao paulo             SP   \n",
       "1                      3149     sao paulo             SP   \n",
       "2                      3149     sao paulo             SP   \n",
       "3                     47813     barreiras             BA   \n",
       "4                     75265    vianopolis             GO   \n",
       "\n",
       "  product_category_name_english  \n",
       "0                    housewares  \n",
       "1                    housewares  \n",
       "2                    housewares  \n",
       "3                     perfumery  \n",
       "4                          auto  "
      ]
     },
     "execution_count": 183,
     "metadata": {},
     "output_type": "execute_result"
    }
   ],
   "source": [
    "df.head(5)"
   ]
  },
  {
   "cell_type": "markdown",
   "id": "126604d1",
   "metadata": {},
   "source": [
    "## Basics info "
   ]
  },
  {
   "cell_type": "raw",
   "id": "35d13792",
   "metadata": {},
   "source": [
    "You dispose of a dataset from its e-commerce website with 13 features : \n",
    "\n",
    "- order_id : ID if the order\n",
    "- order_status : Status of the order\n",
    "- order_purchase_timestamp : Timestamp of the purchase\n",
    "- order_delivered_customer_date : Timestamp of the delivery to the customer\n",
    "- payment_type : Method of payment\n",
    "- payment_installments : Number of payments for this purchase (does NOT affect the payment value)\n",
    "- payment_value : Total amount of the payment\n",
    "- review_score : Score given by the client, ranges from 1 to 5\n",
    "- customer_unique_id : ID of the customer who purchased\n",
    "- customer_zip_code_prefix : Zip code of the customer\n",
    "- customer_city : City of the customer\n",
    "- customer_state : State of the customer\n",
    "- product_category_name_english : Name of the product category in English\n",
    "\n",
    "With this data, you have to analyze customer behavior with two techniques:\n",
    "\n",
    "- Customer segmentation with RFM\n",
    "- Cohort analysis from Sept 2016 to October 2018.\n",
    "\n",
    "At the end, you have to present your analysis with actionable insights to improve the customer relationship of your client. "
   ]
  },
  {
   "cell_type": "markdown",
   "id": "8c677c6f",
   "metadata": {},
   "source": [
    "# EDA"
   ]
  },
  {
   "cell_type": "markdown",
   "id": "69826a66",
   "metadata": {},
   "source": [
    "## Unique Values"
   ]
  },
  {
   "cell_type": "code",
   "execution_count": 184,
   "id": "12907b92",
   "metadata": {},
   "outputs": [
    {
     "name": "stdout",
     "output_type": "stream",
     "text": [
      "+-------------------------------+--------------+\n",
      "|            Feature            | UniqueValues |\n",
      "+-------------------------------+--------------+\n",
      "|           Unnamed: 0          |    105383    |\n",
      "|            order_id           |    99441     |\n",
      "|          customer_id          |    99441     |\n",
      "|          order_status         |      8       |\n",
      "|    order_purchase_timestamp   |    98875     |\n",
      "| order_delivered_customer_date |    95664     |\n",
      "|          payment_type         |      5       |\n",
      "|      payment_installments     |      24      |\n",
      "|         payment_value         |    29077     |\n",
      "|          review_score         |      5       |\n",
      "|       customer_unique_id      |    96096     |\n",
      "|    customer_zip_code_prefix   |    14994     |\n",
      "|         customer_city         |     4119     |\n",
      "|         customer_state        |      27      |\n",
      "| product_category_name_english |      71      |\n",
      "+-------------------------------+--------------+\n"
     ]
    }
   ],
   "source": [
    "from prettytable import PrettyTable\n",
    "\n",
    "unique_counts = PrettyTable()\n",
    "unique_counts.field_names = [\"Feature\", \"UniqueValues\"]\n",
    "for i in df.columns: \n",
    "    count = df[i].nunique()\n",
    "    unique_counts.add_row([i, count])\n",
    "print(unique_counts)"
   ]
  },
  {
   "cell_type": "markdown",
   "id": "85a7c8f4",
   "metadata": {},
   "source": [
    "## Grouping by country"
   ]
  },
  {
   "cell_type": "code",
   "execution_count": 185,
   "id": "3340be89",
   "metadata": {},
   "outputs": [],
   "source": [
    "df[\"order_purchase_timestamp\"] = pd.to_datetime(df[\"order_purchase_timestamp\"])\n",
    "df[\"order_delivered_customer_date\"] = pd.to_datetime(df[\"order_delivered_customer_date\"])"
   ]
  },
  {
   "cell_type": "code",
   "execution_count": 186,
   "id": "49ad02d6",
   "metadata": {
    "scrolled": true
   },
   "outputs": [
    {
     "data": {
      "text/html": [
       "<div>\n",
       "<style scoped>\n",
       "    .dataframe tbody tr th:only-of-type {\n",
       "        vertical-align: middle;\n",
       "    }\n",
       "\n",
       "    .dataframe tbody tr th {\n",
       "        vertical-align: top;\n",
       "    }\n",
       "\n",
       "    .dataframe thead th {\n",
       "        text-align: right;\n",
       "    }\n",
       "</style>\n",
       "<table border=\"1\" class=\"dataframe\">\n",
       "  <thead>\n",
       "    <tr style=\"text-align: right;\">\n",
       "      <th></th>\n",
       "      <th>customer_state</th>\n",
       "      <th>customer_unique_id</th>\n",
       "    </tr>\n",
       "  </thead>\n",
       "  <tbody>\n",
       "    <tr>\n",
       "      <th>25</th>\n",
       "      <td>SP</td>\n",
       "      <td>40302</td>\n",
       "    </tr>\n",
       "    <tr>\n",
       "      <th>18</th>\n",
       "      <td>RJ</td>\n",
       "      <td>12384</td>\n",
       "    </tr>\n",
       "    <tr>\n",
       "      <th>10</th>\n",
       "      <td>MG</td>\n",
       "      <td>11259</td>\n",
       "    </tr>\n",
       "    <tr>\n",
       "      <th>22</th>\n",
       "      <td>RS</td>\n",
       "      <td>5277</td>\n",
       "    </tr>\n",
       "    <tr>\n",
       "      <th>17</th>\n",
       "      <td>PR</td>\n",
       "      <td>4882</td>\n",
       "    </tr>\n",
       "    <tr>\n",
       "      <th>23</th>\n",
       "      <td>SC</td>\n",
       "      <td>3534</td>\n",
       "    </tr>\n",
       "    <tr>\n",
       "      <th>4</th>\n",
       "      <td>BA</td>\n",
       "      <td>3277</td>\n",
       "    </tr>\n",
       "    <tr>\n",
       "      <th>6</th>\n",
       "      <td>DF</td>\n",
       "      <td>2075</td>\n",
       "    </tr>\n",
       "    <tr>\n",
       "      <th>7</th>\n",
       "      <td>ES</td>\n",
       "      <td>1964</td>\n",
       "    </tr>\n",
       "    <tr>\n",
       "      <th>8</th>\n",
       "      <td>GO</td>\n",
       "      <td>1952</td>\n",
       "    </tr>\n",
       "    <tr>\n",
       "      <th>15</th>\n",
       "      <td>PE</td>\n",
       "      <td>1609</td>\n",
       "    </tr>\n",
       "    <tr>\n",
       "      <th>5</th>\n",
       "      <td>CE</td>\n",
       "      <td>1313</td>\n",
       "    </tr>\n",
       "    <tr>\n",
       "      <th>13</th>\n",
       "      <td>PA</td>\n",
       "      <td>949</td>\n",
       "    </tr>\n",
       "    <tr>\n",
       "      <th>12</th>\n",
       "      <td>MT</td>\n",
       "      <td>876</td>\n",
       "    </tr>\n",
       "    <tr>\n",
       "      <th>9</th>\n",
       "      <td>MA</td>\n",
       "      <td>726</td>\n",
       "    </tr>\n",
       "    <tr>\n",
       "      <th>11</th>\n",
       "      <td>MS</td>\n",
       "      <td>694</td>\n",
       "    </tr>\n",
       "    <tr>\n",
       "      <th>14</th>\n",
       "      <td>PB</td>\n",
       "      <td>519</td>\n",
       "    </tr>\n",
       "    <tr>\n",
       "      <th>16</th>\n",
       "      <td>PI</td>\n",
       "      <td>482</td>\n",
       "    </tr>\n",
       "    <tr>\n",
       "      <th>19</th>\n",
       "      <td>RN</td>\n",
       "      <td>474</td>\n",
       "    </tr>\n",
       "    <tr>\n",
       "      <th>1</th>\n",
       "      <td>AL</td>\n",
       "      <td>401</td>\n",
       "    </tr>\n",
       "    <tr>\n",
       "      <th>24</th>\n",
       "      <td>SE</td>\n",
       "      <td>342</td>\n",
       "    </tr>\n",
       "    <tr>\n",
       "      <th>26</th>\n",
       "      <td>TO</td>\n",
       "      <td>273</td>\n",
       "    </tr>\n",
       "    <tr>\n",
       "      <th>20</th>\n",
       "      <td>RO</td>\n",
       "      <td>240</td>\n",
       "    </tr>\n",
       "    <tr>\n",
       "      <th>2</th>\n",
       "      <td>AM</td>\n",
       "      <td>143</td>\n",
       "    </tr>\n",
       "    <tr>\n",
       "      <th>0</th>\n",
       "      <td>AC</td>\n",
       "      <td>77</td>\n",
       "    </tr>\n",
       "    <tr>\n",
       "      <th>3</th>\n",
       "      <td>AP</td>\n",
       "      <td>67</td>\n",
       "    </tr>\n",
       "    <tr>\n",
       "      <th>21</th>\n",
       "      <td>RR</td>\n",
       "      <td>45</td>\n",
       "    </tr>\n",
       "  </tbody>\n",
       "</table>\n",
       "</div>"
      ],
      "text/plain": [
       "   customer_state  customer_unique_id\n",
       "25             SP               40302\n",
       "18             RJ               12384\n",
       "10             MG               11259\n",
       "22             RS                5277\n",
       "17             PR                4882\n",
       "23             SC                3534\n",
       "4              BA                3277\n",
       "6              DF                2075\n",
       "7              ES                1964\n",
       "8              GO                1952\n",
       "15             PE                1609\n",
       "5              CE                1313\n",
       "13             PA                 949\n",
       "12             MT                 876\n",
       "9              MA                 726\n",
       "11             MS                 694\n",
       "14             PB                 519\n",
       "16             PI                 482\n",
       "19             RN                 474\n",
       "1              AL                 401\n",
       "24             SE                 342\n",
       "26             TO                 273\n",
       "20             RO                 240\n",
       "2              AM                 143\n",
       "0              AC                  77\n",
       "3              AP                  67\n",
       "21             RR                  45"
      ]
     },
     "metadata": {},
     "output_type": "display_data"
    }
   ],
   "source": [
    "CountryList = df[\"customer_state\"].unique()\n",
    "customer_country = df[[\"customer_state\", \"customer_unique_id\"]].drop_duplicates()\n",
    "display(customer_country.groupby(['customer_state'])['customer_unique_id'].aggregate('count').reset_index().sort_values(\n",
    "    'customer_unique_id', ascending=False))"
   ]
  },
  {
   "cell_type": "markdown",
   "id": "227d3079",
   "metadata": {},
   "source": [
    "## Missing Values"
   ]
  },
  {
   "cell_type": "code",
   "execution_count": 187,
   "id": "53330ac0",
   "metadata": {},
   "outputs": [
    {
     "data": {
      "text/plain": [
       "Unnamed: 0                          0\n",
       "order_id                            0\n",
       "customer_id                         0\n",
       "order_status                        0\n",
       "order_purchase_timestamp            0\n",
       "order_delivered_customer_date    3159\n",
       "payment_type                        1\n",
       "payment_installments                1\n",
       "payment_value                       1\n",
       "review_score                        0\n",
       "customer_unique_id                  0\n",
       "customer_zip_code_prefix            0\n",
       "customer_city                       0\n",
       "customer_state                      0\n",
       "product_category_name_english    2410\n",
       "dtype: int64"
      ]
     },
     "execution_count": 187,
     "metadata": {},
     "output_type": "execute_result"
    }
   ],
   "source": [
    "# Checking for missing values \n",
    "df.isnull().sum()"
   ]
  },
  {
   "cell_type": "code",
   "execution_count": 188,
   "id": "00a9e5d5",
   "metadata": {},
   "outputs": [
    {
     "name": "stdout",
     "output_type": "stream",
     "text": [
      "No.of Duplicate rows :  0\n"
     ]
    }
   ],
   "source": [
    "# Check the duplicates \n",
    "print(\"No.of Duplicate rows : \", df.duplicated().sum())"
   ]
  },
  {
   "cell_type": "markdown",
   "id": "13a6921f",
   "metadata": {},
   "source": [
    "## Analyse "
   ]
  },
  {
   "cell_type": "code",
   "execution_count": 189,
   "id": "6a2006c7",
   "metadata": {},
   "outputs": [],
   "source": [
    "df[\"order_purchase_timestamp_year\"]=pd.DatetimeIndex(df[\"order_purchase_timestamp\"]).year\n",
    "df[\"order_purchase_timestamp_month\"]=pd.DatetimeIndex(df[\"order_purchase_timestamp\"]).month\n",
    "evolution = df.groupby(by=[\"order_purchase_timestamp_year\",\"order_purchase_timestamp_month\"]).sum().reset_index()"
   ]
  },
  {
   "cell_type": "code",
   "execution_count": 190,
   "id": "2ac79c96",
   "metadata": {
    "scrolled": false
   },
   "outputs": [
    {
     "data": {
      "text/plain": [
       "<AxesSubplot:>"
      ]
     },
     "execution_count": 190,
     "metadata": {},
     "output_type": "execute_result"
    },
    {
     "data": {
      "image/png": "[encoded data removed]",
      "text/plain": [
       "<Figure size 640x480 with 1 Axes>"
      ]
     },
     "metadata": {},
     "output_type": "display_data"
    }
   ],
   "source": [
    "df[\"customer_state\"].value_counts()[:10].plot(kind='barh')"
   ]
  },
  {
   "cell_type": "code",
   "execution_count": 191,
   "id": "213c506f",
   "metadata": {
    "scrolled": false
   },
   "outputs": [
    {
     "data": {
      "application/vnd.plotly.v1+json": {
       "config": {
        "plotlyServerURL": "https://plot.ly"
       },
       "data": [
        {
         "hovertemplate": "state=Acre<br>payment_value=%{marker.size}<br>latitude=%{lat}<br>longitude=%{lon}<extra></extra>",
         "lat": [
          -9.070003236
         ],
         "legendgroup": "Acre",
         "lon": [
          -68.66997929
         ],
         "marker": {
          "color": "#636efa",
          "size": [
           158.27
          ],
          "sizemode": "area",
          "sizeref": 0.395675
         },
         "mode": "markers",
         "name": "Acre",
         "showlegend": true,
         "subplot": "mapbox",
         "type": "scattermapbox"
        },
        {
         "hovertemplate": "state=Alagoas<br>payment_value=%{marker.size}<br>latitude=%{lat}<br>longitude=%{lon}<extra></extra>",
         "lat": [
          -9.48000405
         ],
         "legendgroup": "Alagoas",
         "lon": [
          -35.83996769
         ],
         "marker": {
          "color": "#EF553B",
          "size": [
           134.2
          ],
          "sizemode": "area",
          "sizeref": 0.395675
         },
         "mode": "markers",
         "name": "Alagoas",
         "showlegend": true,
         "subplot": "mapbox",
         "type": "scattermapbox"
        },
        {
         "hovertemplate": "state=Amapá<br>payment_value=%{marker.size}<br>latitude=%{lat}<br>longitude=%{lon}<extra></extra>",
         "lat": [
          -0.039598369
         ],
         "legendgroup": "Amapá",
         "lon": [
          -51.17998743
         ],
         "marker": {
          "color": "#00cc96",
          "size": [
           142.71
          ],
          "sizemode": "area",
          "sizeref": 0.395675
         },
         "mode": "markers",
         "name": "Amapá",
         "showlegend": true,
         "subplot": "mapbox",
         "type": "scattermapbox"
        },
        {
         "hovertemplate": "state=Amazonas<br>payment_value=%{marker.size}<br>latitude=%{lat}<br>longitude=%{lon}<extra></extra>",
         "lat": [
          -3.289580873
         ],
         "legendgroup": "Amazonas",
         "lon": [
          -60.6199797
         ],
         "marker": {
          "color": "#ab63fa",
          "size": [
           114.67
          ],
          "sizemode": "area",
          "sizeref": 0.395675
         },
         "mode": "markers",
         "name": "Amazonas",
         "showlegend": true,
         "subplot": "mapbox",
         "type": "scattermapbox"
        },
        {
         "hovertemplate": "state=Bahia<br>payment_value=%{marker.size}<br>latitude=%{lat}<br>longitude=%{lon}<extra></extra>",
         "lat": [
          -16.28000242
         ],
         "legendgroup": "Bahia",
         "lon": [
          -39.0299797
         ],
         "marker": {
          "color": "#FFA15A",
          "size": [
           109.67
          ],
          "sizemode": "area",
          "sizeref": 0.395675
         },
         "mode": "markers",
         "name": "Bahia",
         "showlegend": true,
         "subplot": "mapbox",
         "type": "scattermapbox"
        },
        {
         "hovertemplate": "state=Ceará<br>payment_value=%{marker.size}<br>latitude=%{lat}<br>longitude=%{lon}<extra></extra>",
         "lat": [
          -2.89999225
         ],
         "legendgroup": "Ceará",
         "lon": [
          -40.85002364
         ],
         "marker": {
          "color": "#19d3f3",
          "size": [
           125.81
          ],
          "sizemode": "area",
          "sizeref": 0.395675
         },
         "mode": "markers",
         "name": "Ceará",
         "showlegend": true,
         "subplot": "mapbox",
         "type": "scattermapbox"
        },
        {
         "hovertemplate": "state=Distrito Federal<br>payment_value=%{marker.size}<br>latitude=%{lat}<br>longitude=%{lon}<extra></extra>",
         "lat": [
          -15.78334023
         ],
         "legendgroup": "Distrito Federal",
         "lon": [
          -47.91605229
         ],
         "marker": {
          "color": "#FF6692",
          "size": [
           105.61
          ],
          "sizemode": "area",
          "sizeref": 0.395675
         },
         "mode": "markers",
         "name": "Distrito Federal",
         "showlegend": true,
         "subplot": "mapbox",
         "type": "scattermapbox"
        },
        {
         "hovertemplate": "state=Espírito Santo<br>payment_value=%{marker.size}<br>latitude=%{lat}<br>longitude=%{lon}<extra></extra>",
         "lat": [
          -20.85000771
         ],
         "legendgroup": "Espírito Santo",
         "lon": [
          -41.12998071
         ],
         "marker": {
          "color": "#B6E880",
          "size": [
           105.28
          ],
          "sizemode": "area",
          "sizeref": 0.395675
         },
         "mode": "markers",
         "name": "Espírito Santo",
         "showlegend": true,
         "subplot": "mapbox",
         "type": "scattermapbox"
        },
        {
         "hovertemplate": "state=Goiás<br>payment_value=%{marker.size}<br>latitude=%{lat}<br>longitude=%{lon}<extra></extra>",
         "lat": [
          -17.73004311
         ],
         "legendgroup": "Goiás",
         "lon": [
          -49.10998458
         ],
         "marker": {
          "color": "#FF97FF",
          "size": [
           107.96
          ],
          "sizemode": "area",
          "sizeref": 0.395675
         },
         "mode": "markers",
         "name": "Goiás",
         "showlegend": true,
         "subplot": "mapbox",
         "type": "scattermapbox"
        },
        {
         "hovertemplate": "state=Maranhão<br>payment_value=%{marker.size}<br>latitude=%{lat}<br>longitude=%{lon}<extra></extra>",
         "lat": [
          -5.809995505
         ],
         "legendgroup": "Maranhão",
         "lon": [
          -46.14998438
         ],
         "marker": {
          "color": "#FECB52",
          "size": [
           130.655
          ],
          "sizemode": "area",
          "sizeref": 0.395675
         },
         "mode": "markers",
         "name": "Maranhão",
         "showlegend": true,
         "subplot": "mapbox",
         "type": "scattermapbox"
        },
        {
         "hovertemplate": "state=Mato Grosso<br>payment_value=%{marker.size}<br>latitude=%{lat}<br>longitude=%{lon}<extra></extra>",
         "lat": [
          -15.65001504
         ],
         "legendgroup": "Mato Grosso",
         "lon": [
          -56.14002059
         ],
         "marker": {
          "color": "#636efa",
          "size": [
           119.84
          ],
          "sizemode": "area",
          "sizeref": 0.395675
         },
         "mode": "markers",
         "name": "Mato Grosso",
         "showlegend": true,
         "subplot": "mapbox",
         "type": "scattermapbox"
        },
        {
         "hovertemplate": "state=Mato Grosso do Sul<br>payment_value=%{marker.size}<br>latitude=%{lat}<br>longitude=%{lon}<extra></extra>",
         "lat": [
          -22.53000853
         ],
         "legendgroup": "Mato Grosso do Sul",
         "lon": [
          -55.7299681
         ],
         "marker": {
          "color": "#EF553B",
          "size": [
           113.22
          ],
          "sizemode": "area",
          "sizeref": 0.395675
         },
         "mode": "markers",
         "name": "Mato Grosso do Sul",
         "showlegend": true,
         "subplot": "mapbox",
         "type": "scattermapbox"
        },
        {
         "hovertemplate": "state=Minas Gerais<br>payment_value=%{marker.size}<br>latitude=%{lat}<br>longitude=%{lon}<extra></extra>",
         "lat": [
          -18.78000486
         ],
         "legendgroup": "Minas Gerais",
         "lon": [
          -42.95002466
         ],
         "marker": {
          "color": "#00cc96",
          "size": [
           104.79
          ],
          "sizemode": "area",
          "sizeref": 0.395675
         },
         "mode": "markers",
         "name": "Minas Gerais",
         "showlegend": true,
         "subplot": "mapbox",
         "type": "scattermapbox"
        },
        {
         "hovertemplate": "state=Paraná<br>payment_value=%{marker.size}<br>latitude=%{lat}<br>longitude=%{lon}<extra></extra>",
         "lat": [
          -24.08996499
         ],
         "legendgroup": "Paraná",
         "lon": [
          -54.2699797
         ],
         "marker": {
          "color": "#ab63fa",
          "size": [
           100.37
          ],
          "sizemode": "area",
          "sizeref": 0.395675
         },
         "mode": "markers",
         "name": "Paraná",
         "showlegend": true,
         "subplot": "mapbox",
         "type": "scattermapbox"
        },
        {
         "hovertemplate": "state=Paraíba<br>payment_value=%{marker.size}<br>latitude=%{lat}<br>longitude=%{lon}<extra></extra>",
         "lat": [
          -7.019585756
         ],
         "legendgroup": "Paraíba",
         "lon": [
          -37.29000838
         ],
         "marker": {
          "color": "#FFA15A",
          "size": [
           144.93
          ],
          "sizemode": "area",
          "sizeref": 0.395675
         },
         "mode": "markers",
         "name": "Paraíba",
         "showlegend": true,
         "subplot": "mapbox",
         "type": "scattermapbox"
        },
        {
         "hovertemplate": "state=Pará<br>payment_value=%{marker.size}<br>latitude=%{lat}<br>longitude=%{lon}<extra></extra>",
         "lat": [
          -1.190019105
         ],
         "legendgroup": "Pará",
         "lon": [
          -47.17999903
         ],
         "marker": {
          "color": "#19d3f3",
          "size": [
           135.61
          ],
          "sizemode": "area",
          "sizeref": 0.395675
         },
         "mode": "markers",
         "name": "Pará",
         "showlegend": true,
         "subplot": "mapbox",
         "type": "scattermapbox"
        },
        {
         "hovertemplate": "state=Pernambuco<br>payment_value=%{marker.size}<br>latitude=%{lat}<br>longitude=%{lon}<extra></extra>",
         "lat": [
          -8.110010153
         ],
         "legendgroup": "Pernambuco",
         "lon": [
          -35.02004358
         ],
         "marker": {
          "color": "#FF6692",
          "size": [
           125.23
          ],
          "sizemode": "area",
          "sizeref": 0.395675
         },
         "mode": "markers",
         "name": "Pernambuco",
         "showlegend": true,
         "subplot": "mapbox",
         "type": "scattermapbox"
        },
        {
         "hovertemplate": "state=Piauí<br>payment_value=%{marker.size}<br>latitude=%{lat}<br>longitude=%{lon}<extra></extra>",
         "lat": [
          -4.820030091
         ],
         "legendgroup": "Piauí",
         "lon": [
          -42.18001998
         ],
         "marker": {
          "color": "#B6E880",
          "size": [
           139.49
          ],
          "sizemode": "area",
          "sizeref": 0.395675
         },
         "mode": "markers",
         "name": "Piauí",
         "showlegend": true,
         "subplot": "mapbox",
         "type": "scattermapbox"
        },
        {
         "hovertemplate": "state=Rio Grande do Norte<br>payment_value=%{marker.size}<br>latitude=%{lat}<br>longitude=%{lon}<extra></extra>",
         "lat": [
          -5.650005271
         ],
         "legendgroup": "Rio Grande do Norte",
         "lon": [
          -37.80000309
         ],
         "marker": {
          "color": "#FF97FF",
          "size": [
           134.9
          ],
          "sizemode": "area",
          "sizeref": 0.395675
         },
         "mode": "markers",
         "name": "Rio Grande do Norte",
         "showlegend": true,
         "subplot": "mapbox",
         "type": "scattermapbox"
        },
        {
         "hovertemplate": "state=Rio Grande do Sul<br>payment_value=%{marker.size}<br>latitude=%{lat}<br>longitude=%{lon}<extra></extra>",
         "lat": [
          -30.88004148
         ],
         "legendgroup": "Rio Grande do Sul",
         "lon": [
          -55.53000615
         ],
         "marker": {
          "color": "#FECB52",
          "size": [
           105.28
          ],
          "sizemode": "area",
          "sizeref": 0.395675
         },
         "mode": "markers",
         "name": "Rio Grande do Sul",
         "showlegend": true,
         "subplot": "mapbox",
         "type": "scattermapbox"
        },
        {
         "hovertemplate": "state=Rio de Janeiro<br>payment_value=%{marker.size}<br>latitude=%{lat}<br>longitude=%{lon}<extra></extra>",
         "lat": [
          -22.56003253
         ],
         "legendgroup": "Rio de Janeiro",
         "lon": [
          -44.1699502
         ],
         "marker": {
          "color": "#636efa",
          "size": [
           106.02
          ],
          "sizemode": "area",
          "sizeref": 0.395675
         },
         "mode": "markers",
         "name": "Rio de Janeiro",
         "showlegend": true,
         "subplot": "mapbox",
         "type": "scattermapbox"
        },
        {
         "hovertemplate": "state=Rondônia<br>payment_value=%{marker.size}<br>latitude=%{lat}<br>longitude=%{lon}<extra></extra>",
         "lat": [
          -11.64002724
         ],
         "legendgroup": "Rondônia",
         "lon": [
          -61.20999536
         ],
         "marker": {
          "color": "#EF553B",
          "size": [
           151.71
          ],
          "sizemode": "area",
          "sizeref": 0.395675
         },
         "mode": "markers",
         "name": "Rondônia",
         "showlegend": true,
         "subplot": "mapbox",
         "type": "scattermapbox"
        },
        {
         "hovertemplate": "state=Roraima<br>payment_value=%{marker.size}<br>latitude=%{lat}<br>longitude=%{lon}<extra></extra>",
         "lat": [
          1.816231505
         ],
         "legendgroup": "Roraima",
         "lon": [
          -61.12767481
         ],
         "marker": {
          "color": "#00cc96",
          "size": [
           143.57
          ],
          "sizemode": "area",
          "sizeref": 0.395675
         },
         "mode": "markers",
         "name": "Roraima",
         "showlegend": true,
         "subplot": "mapbox",
         "type": "scattermapbox"
        },
        {
         "hovertemplate": "state=Santa Catarina<br>payment_value=%{marker.size}<br>latitude=%{lat}<br>longitude=%{lon}<extra></extra>",
         "lat": [
          -27.23003172
         ],
         "legendgroup": "Santa Catarina",
         "lon": [
          -52.03001306
         ],
         "marker": {
          "color": "#ab63fa",
          "size": [
           107.06
          ],
          "sizemode": "area",
          "sizeref": 0.395675
         },
         "mode": "markers",
         "name": "Santa Catarina",
         "showlegend": true,
         "subplot": "mapbox",
         "type": "scattermapbox"
        },
        {
         "hovertemplate": "state=Sergipe<br>payment_value=%{marker.size}<br>latitude=%{lat}<br>longitude=%{lon}<extra></extra>",
         "lat": [
          -11.26961058
         ],
         "legendgroup": "Sergipe",
         "lon": [
          -37.45002446
         ],
         "marker": {
          "color": "#FFA15A",
          "size": [
           134.99
          ],
          "sizemode": "area",
          "sizeref": 0.395675
         },
         "mode": "markers",
         "name": "Sergipe",
         "showlegend": true,
         "subplot": "mapbox",
         "type": "scattermapbox"
        },
        {
         "hovertemplate": "state=São Paulo<br>payment_value=%{marker.size}<br>latitude=%{lat}<br>longitude=%{lon}<extra></extra>",
         "lat": [
          -23.65283405
         ],
         "legendgroup": "São Paulo",
         "lon": [
          -46.52781661
         ],
         "marker": {
          "color": "#19d3f3",
          "size": [
           89.27
          ],
          "sizemode": "area",
          "sizeref": 0.395675
         },
         "mode": "markers",
         "name": "São Paulo",
         "showlegend": true,
         "subplot": "mapbox",
         "type": "scattermapbox"
        },
        {
         "hovertemplate": "state=Tocantins<br>payment_value=%{marker.size}<br>latitude=%{lat}<br>longitude=%{lon}<extra></extra>",
         "lat": [
          -6.319576804
         ],
         "legendgroup": "Tocantins",
         "lon": [
          -47.41998438
         ],
         "marker": {
          "color": "#FF6692",
          "size": [
           127.925
          ],
          "sizemode": "area",
          "sizeref": 0.395675
         },
         "mode": "markers",
         "name": "Tocantins",
         "showlegend": true,
         "subplot": "mapbox",
         "type": "scattermapbox"
        }
       ],
       "layout": {
        "legend": {
         "itemsizing": "constant",
         "title": {
          "text": "state"
         },
         "tracegroupgap": 0
        },
        "mapbox": {
         "center": {
          "lat": -12.622523498074075,
          "lon": -47.945238946296286
         },
         "domain": {
          "x": [
           0,
           1
          ],
          "y": [
           0,
           1
          ]
         },
         "style": "carto-positron",
         "zoom": 1
        },
        "template": {
         "data": {
          "bar": [
           {
            "error_x": {
             "color": "#2a3f5f"
            },
            "error_y": {
             "color": "#2a3f5f"
            },
            "marker": {
             "line": {
              "color": "#E5ECF6",
              "width": 0.5
             },
             "pattern": {
              "fillmode": "overlay",
              "size": 10,
              "solidity": 0.2
             }
            },
            "type": "bar"
           }
          ],
          "barpolar": [
           {
            "marker": {
             "line": {
              "color": "#E5ECF6",
              "width": 0.5
             },
             "pattern": {
              "fillmode": "overlay",
              "size": 10,
              "solidity": 0.2
             }
            },
            "type": "barpolar"
           }
          ],
          "carpet": [
           {
            "aaxis": {
             "endlinecolor": "#2a3f5f",
             "gridcolor": "white",
             "linecolor": "white",
             "minorgridcolor": "white",
             "startlinecolor": "#2a3f5f"
            },
            "baxis": {
             "endlinecolor": "#2a3f5f",
             "gridcolor": "white",
             "linecolor": "white",
             "minorgridcolor": "white",
             "startlinecolor": "#2a3f5f"
            },
            "type": "carpet"
           }
          ],
          "choropleth": [
           {
            "colorbar": {
             "outlinewidth": 0,
             "ticks": ""
            },
            "type": "choropleth"
           }
          ],
          "contour": [
           {
            "colorbar": {
             "outlinewidth": 0,
             "ticks": ""
            },
            "colorscale": [
             [
              0,
              "#0d0887"
             ],
             [
              0.1111111111111111,
              "#46039f"
             ],
             [
              0.2222222222222222,
              "#7201a8"
             ],
             [
              0.3333333333333333,
              "#9c179e"
             ],
             [
              0.4444444444444444,
              "#bd3786"
             ],
             [
              0.5555555555555556,
              "#d8576b"
             ],
             [
              0.6666666666666666,
              "#ed7953"
             ],
             [
              0.7777777777777778,
              "#fb9f3a"
             ],
             [
              0.8888888888888888,
              "#fdca26"
             ],
             [
              1,
              "#f0f921"
             ]
            ],
            "type": "contour"
           }
          ],
          "contourcarpet": [
           {
            "colorbar": {
             "outlinewidth": 0,
             "ticks": ""
            },
            "type": "contourcarpet"
           }
          ],
          "heatmap": [
           {
            "colorbar": {
             "outlinewidth": 0,
             "ticks": ""
            },
            "colorscale": [
             [
              0,
              "#0d0887"
             ],
             [
              0.1111111111111111,
              "#46039f"
             ],
             [
              0.2222222222222222,
              "#7201a8"
             ],
             [
              0.3333333333333333,
              "#9c179e"
             ],
             [
              0.4444444444444444,
              "#bd3786"
             ],
             [
              0.5555555555555556,
              "#d8576b"
             ],
             [
              0.6666666666666666,
              "#ed7953"
             ],
             [
              0.7777777777777778,
              "#fb9f3a"
             ],
             [
              0.8888888888888888,
              "#fdca26"
             ],
             [
              1,
              "#f0f921"
             ]
            ],
            "type": "heatmap"
           }
          ],
          "heatmapgl": [
           {
            "colorbar": {
             "outlinewidth": 0,
             "ticks": ""
            },
            "colorscale": [
             [
              0,
              "#0d0887"
             ],
             [
              0.1111111111111111,
              "#46039f"
             ],
             [
              0.2222222222222222,
              "#7201a8"
             ],
             [
              0.3333333333333333,
              "#9c179e"
             ],
             [
              0.4444444444444444,
              "#bd3786"
             ],
             [
              0.5555555555555556,
              "#d8576b"
             ],
             [
              0.6666666666666666,
              "#ed7953"
             ],
             [
              0.7777777777777778,
              "#fb9f3a"
             ],
             [
              0.8888888888888888,
              "#fdca26"
             ],
             [
              1,
              "#f0f921"
             ]
            ],
            "type": "heatmapgl"
           }
          ],
          "histogram": [
           {
            "marker": {
             "pattern": {
              "fillmode": "overlay",
              "size": 10,
              "solidity": 0.2
             }
            },
            "type": "histogram"
           }
          ],
          "histogram2d": [
           {
            "colorbar": {
             "outlinewidth": 0,
             "ticks": ""
            },
            "colorscale": [
             [
              0,
              "#0d0887"
             ],
             [
              0.1111111111111111,
              "#46039f"
             ],
             [
              0.2222222222222222,
              "#7201a8"
             ],
             [
              0.3333333333333333,
              "#9c179e"
             ],
             [
              0.4444444444444444,
              "#bd3786"
             ],
             [
              0.5555555555555556,
              "#d8576b"
             ],
             [
              0.6666666666666666,
              "#ed7953"
             ],
             [
              0.7777777777777778,
              "#fb9f3a"
             ],
             [
              0.8888888888888888,
              "#fdca26"
             ],
             [
              1,
              "#f0f921"
             ]
            ],
            "type": "histogram2d"
           }
          ],
          "histogram2dcontour": [
           {
            "colorbar": {
             "outlinewidth": 0,
             "ticks": ""
            },
            "colorscale": [
             [
              0,
              "#0d0887"
             ],
             [
              0.1111111111111111,
              "#46039f"
             ],
             [
              0.2222222222222222,
              "#7201a8"
             ],
             [
              0.3333333333333333,
              "#9c179e"
             ],
             [
              0.4444444444444444,
              "#bd3786"
             ],
             [
              0.5555555555555556,
              "#d8576b"
             ],
             [
              0.6666666666666666,
              "#ed7953"
             ],
             [
              0.7777777777777778,
              "#fb9f3a"
             ],
             [
              0.8888888888888888,
              "#fdca26"
             ],
             [
              1,
              "#f0f921"
             ]
            ],
            "type": "histogram2dcontour"
           }
          ],
          "mesh3d": [
           {
            "colorbar": {
             "outlinewidth": 0,
             "ticks": ""
            },
            "type": "mesh3d"
           }
          ],
          "parcoords": [
           {
            "line": {
             "colorbar": {
              "outlinewidth": 0,
              "ticks": ""
             }
            },
            "type": "parcoords"
           }
          ],
          "pie": [
           {
            "automargin": true,
            "type": "pie"
           }
          ],
          "scatter": [
           {
            "fillpattern": {
             "fillmode": "overlay",
             "size": 10,
             "solidity": 0.2
            },
            "type": "scatter"
           }
          ],
          "scatter3d": [
           {
            "line": {
             "colorbar": {
              "outlinewidth": 0,
              "ticks": ""
             }
            },
            "marker": {
             "colorbar": {
              "outlinewidth": 0,
              "ticks": ""
             }
            },
            "type": "scatter3d"
           }
          ],
          "scattercarpet": [
           {
            "marker": {
             "colorbar": {
              "outlinewidth": 0,
              "ticks": ""
             }
            },
            "type": "scattercarpet"
           }
          ],
          "scattergeo": [
           {
            "marker": {
             "colorbar": {
              "outlinewidth": 0,
              "ticks": ""
             }
            },
            "type": "scattergeo"
           }
          ],
          "scattergl": [
           {
            "marker": {
             "colorbar": {
              "outlinewidth": 0,
              "ticks": ""
             }
            },
            "type": "scattergl"
           }
          ],
          "scattermapbox": [
           {
            "marker": {
             "colorbar": {
              "outlinewidth": 0,
              "ticks": ""
             }
            },
            "type": "scattermapbox"
           }
          ],
          "scatterpolar": [
           {
            "marker": {
             "colorbar": {
              "outlinewidth": 0,
              "ticks": ""
             }
            },
            "type": "scatterpolar"
           }
          ],
          "scatterpolargl": [
           {
            "marker": {
             "colorbar": {
              "outlinewidth": 0,
              "ticks": ""
             }
            },
            "type": "scatterpolargl"
           }
          ],
          "scatterternary": [
           {
            "marker": {
             "colorbar": {
              "outlinewidth": 0,
              "ticks": ""
             }
            },
            "type": "scatterternary"
           }
          ],
          "surface": [
           {
            "colorbar": {
             "outlinewidth": 0,
             "ticks": ""
            },
            "colorscale": [
             [
              0,
              "#0d0887"
             ],
             [
              0.1111111111111111,
              "#46039f"
             ],
             [
              0.2222222222222222,
              "#7201a8"
             ],
             [
              0.3333333333333333,
              "#9c179e"
             ],
             [
              0.4444444444444444,
              "#bd3786"
             ],
             [
              0.5555555555555556,
              "#d8576b"
             ],
             [
              0.6666666666666666,
              "#ed7953"
             ],
             [
              0.7777777777777778,
              "#fb9f3a"
             ],
             [
              0.8888888888888888,
              "#fdca26"
             ],
             [
              1,
              "#f0f921"
             ]
            ],
            "type": "surface"
           }
          ],
          "table": [
           {
            "cells": {
             "fill": {
              "color": "#EBF0F8"
             },
             "line": {
              "color": "white"
             }
            },
            "header": {
             "fill": {
              "color": "#C8D4E3"
             },
             "line": {
              "color": "white"
             }
            },
            "type": "table"
           }
          ]
         },
         "layout": {
          "annotationdefaults": {
           "arrowcolor": "#2a3f5f",
           "arrowhead": 0,
           "arrowwidth": 1
          },
          "autotypenumbers": "strict",
          "coloraxis": {
           "colorbar": {
            "outlinewidth": 0,
            "ticks": ""
           }
          },
          "colorscale": {
           "diverging": [
            [
             0,
             "#8e0152"
            ],
            [
             0.1,
             "#c51b7d"
            ],
            [
             0.2,
             "#de77ae"
            ],
            [
             0.3,
             "#f1b6da"
            ],
            [
             0.4,
             "#fde0ef"
            ],
            [
             0.5,
             "#f7f7f7"
            ],
            [
             0.6,
             "#e6f5d0"
            ],
            [
             0.7,
             "#b8e186"
            ],
            [
             0.8,
             "#7fbc41"
            ],
            [
             0.9,
             "#4d9221"
            ],
            [
             1,
             "#276419"
            ]
           ],
           "sequential": [
            [
             0,
             "#0d0887"
            ],
            [
             0.1111111111111111,
             "#46039f"
            ],
            [
             0.2222222222222222,
             "#7201a8"
            ],
            [
             0.3333333333333333,
             "#9c179e"
            ],
            [
             0.4444444444444444,
             "#bd3786"
            ],
            [
             0.5555555555555556,
             "#d8576b"
            ],
            [
             0.6666666666666666,
             "#ed7953"
            ],
            [
             0.7777777777777778,
             "#fb9f3a"
            ],
            [
             0.8888888888888888,
             "#fdca26"
            ],
            [
             1,
             "#f0f921"
            ]
           ],
           "sequentialminus": [
            [
             0,
             "#0d0887"
            ],
            [
             0.1111111111111111,
             "#46039f"
            ],
            [
             0.2222222222222222,
             "#7201a8"
            ],
            [
             0.3333333333333333,
             "#9c179e"
            ],
            [
             0.4444444444444444,
             "#bd3786"
            ],
            [
             0.5555555555555556,
             "#d8576b"
            ],
            [
             0.6666666666666666,
             "#ed7953"
            ],
            [
             0.7777777777777778,
             "#fb9f3a"
            ],
            [
             0.8888888888888888,
             "#fdca26"
            ],
            [
             1,
             "#f0f921"
            ]
           ]
          },
          "colorway": [
           "#636efa",
           "#EF553B",
           "#00cc96",
           "#ab63fa",
           "#FFA15A",
           "#19d3f3",
           "#FF6692",
           "#B6E880",
           "#FF97FF",
           "#FECB52"
          ],
          "font": {
           "color": "#2a3f5f"
          },
          "geo": {
           "bgcolor": "white",
           "lakecolor": "white",
           "landcolor": "#E5ECF6",
           "showlakes": true,
           "showland": true,
           "subunitcolor": "white"
          },
          "hoverlabel": {
           "align": "left"
          },
          "hovermode": "closest",
          "mapbox": {
           "style": "light"
          },
          "paper_bgcolor": "white",
          "plot_bgcolor": "#E5ECF6",
          "polar": {
           "angularaxis": {
            "gridcolor": "white",
            "linecolor": "white",
            "ticks": ""
           },
           "bgcolor": "#E5ECF6",
           "radialaxis": {
            "gridcolor": "white",
            "linecolor": "white",
            "ticks": ""
           }
          },
          "scene": {
           "xaxis": {
            "backgroundcolor": "#E5ECF6",
            "gridcolor": "white",
            "gridwidth": 2,
            "linecolor": "white",
            "showbackground": true,
            "ticks": "",
            "zerolinecolor": "white"
           },
           "yaxis": {
            "backgroundcolor": "#E5ECF6",
            "gridcolor": "white",
            "gridwidth": 2,
            "linecolor": "white",
            "showbackground": true,
            "ticks": "",
            "zerolinecolor": "white"
           },
           "zaxis": {
            "backgroundcolor": "#E5ECF6",
            "gridcolor": "white",
            "gridwidth": 2,
            "linecolor": "white",
            "showbackground": true,
            "ticks": "",
            "zerolinecolor": "white"
           }
          },
          "shapedefaults": {
           "line": {
            "color": "#2a3f5f"
           }
          },
          "ternary": {
           "aaxis": {
            "gridcolor": "white",
            "linecolor": "white",
            "ticks": ""
           },
           "baxis": {
            "gridcolor": "white",
            "linecolor": "white",
            "ticks": ""
           },
           "bgcolor": "#E5ECF6",
           "caxis": {
            "gridcolor": "white",
            "linecolor": "white",
            "ticks": ""
           }
          },
          "title": {
           "x": 0.05
          },
          "xaxis": {
           "automargin": true,
           "gridcolor": "white",
           "linecolor": "white",
           "ticks": "",
           "title": {
            "standoff": 15
           },
           "zerolinecolor": "white",
           "zerolinewidth": 2
          },
          "yaxis": {
           "automargin": true,
           "gridcolor": "white",
           "linecolor": "white",
           "ticks": "",
           "title": {
            "standoff": 15
           },
           "zerolinecolor": "white",
           "zerolinewidth": 2
          }
         }
        },
        "title": {
         "text": "Total amount of the payment by States",
         "x": 0.45,
         "y": 0.95
        }
       }
      },
      "text/html": [
       "<div>                            <div id=\"08f7d10d-2b1b-49cb-a72e-bdb12d12c0ca\" class=\"plotly-graph-div\" style=\"height:525px; width:100%;\"></div>            <script type=\"text/javascript\">                require([\"plotly\"], function(Plotly) {                    window.PLOTLYENV=window.PLOTLYENV || {};                                    if (document.getElementById(\"08f7d10d-2b1b-49cb-a72e-bdb12d12c0ca\")) {                    Plotly.newPlot(                        \"08f7d10d-2b1b-49cb-a72e-bdb12d12c0ca\",                        [{\"hovertemplate\":\"state=Acre<br>payment_value=%{marker.size}<br>latitude=%{lat}<br>longitude=%{lon}<extra></extra>\",\"lat\":[-9.070003236],\"legendgroup\":\"Acre\",\"lon\":[-68.66997929],\"marker\":{\"color\":\"#636efa\",\"size\":[158.27],\"sizemode\":\"area\",\"sizeref\":0.395675},\"mode\":\"markers\",\"name\":\"Acre\",\"showlegend\":true,\"subplot\":\"mapbox\",\"type\":\"scattermapbox\"},{\"hovertemplate\":\"state=Alagoas<br>payment_value=%{marker.size}<br>latitude=%{lat}<br>longitude=%{lon}<extra></extra>\",\"lat\":[-9.48000405],\"legendgroup\":\"Alagoas\",\"lon\":[-35.83996769],\"marker\":{\"color\":\"#EF553B\",\"size\":[134.2],\"sizemode\":\"area\",\"sizeref\":0.395675},\"mode\":\"markers\",\"name\":\"Alagoas\",\"showlegend\":true,\"subplot\":\"mapbox\",\"type\":\"scattermapbox\"},{\"hovertemplate\":\"state=Amap\\u00e1<br>payment_value=%{marker.size}<br>latitude=%{lat}<br>longitude=%{lon}<extra></extra>\",\"lat\":[-0.039598369],\"legendgroup\":\"Amap\\u00e1\",\"lon\":[-51.17998743],\"marker\":{\"color\":\"#00cc96\",\"size\":[142.71],\"sizemode\":\"area\",\"sizeref\":0.395675},\"mode\":\"markers\",\"name\":\"Amap\\u00e1\",\"showlegend\":true,\"subplot\":\"mapbox\",\"type\":\"scattermapbox\"},{\"hovertemplate\":\"state=Amazonas<br>payment_value=%{marker.size}<br>latitude=%{lat}<br>longitude=%{lon}<extra></extra>\",\"lat\":[-3.289580873],\"legendgroup\":\"Amazonas\",\"lon\":[-60.6199797],\"marker\":{\"color\":\"#ab63fa\",\"size\":[114.67],\"sizemode\":\"area\",\"sizeref\":0.395675},\"mode\":\"markers\",\"name\":\"Amazonas\",\"showlegend\":true,\"subplot\":\"mapbox\",\"type\":\"scattermapbox\"},{\"hovertemplate\":\"state=Bahia<br>payment_value=%{marker.size}<br>latitude=%{lat}<br>longitude=%{lon}<extra></extra>\",\"lat\":[-16.28000242],\"legendgroup\":\"Bahia\",\"lon\":[-39.0299797],\"marker\":{\"color\":\"#FFA15A\",\"size\":[109.67],\"sizemode\":\"area\",\"sizeref\":0.395675},\"mode\":\"markers\",\"name\":\"Bahia\",\"showlegend\":true,\"subplot\":\"mapbox\",\"type\":\"scattermapbox\"},{\"hovertemplate\":\"state=Cear\\u00e1<br>payment_value=%{marker.size}<br>latitude=%{lat}<br>longitude=%{lon}<extra></extra>\",\"lat\":[-2.89999225],\"legendgroup\":\"Cear\\u00e1\",\"lon\":[-40.85002364],\"marker\":{\"color\":\"#19d3f3\",\"size\":[125.81],\"sizemode\":\"area\",\"sizeref\":0.395675},\"mode\":\"markers\",\"name\":\"Cear\\u00e1\",\"showlegend\":true,\"subplot\":\"mapbox\",\"type\":\"scattermapbox\"},{\"hovertemplate\":\"state=Distrito Federal<br>payment_value=%{marker.size}<br>latitude=%{lat}<br>longitude=%{lon}<extra></extra>\",\"lat\":[-15.78334023],\"legendgroup\":\"Distrito Federal\",\"lon\":[-47.91605229],\"marker\":{\"color\":\"#FF6692\",\"size\":[105.61],\"sizemode\":\"area\",\"sizeref\":0.395675},\"mode\":\"markers\",\"name\":\"Distrito Federal\",\"showlegend\":true,\"subplot\":\"mapbox\",\"type\":\"scattermapbox\"},{\"hovertemplate\":\"state=Esp\\u00edrito Santo<br>payment_value=%{marker.size}<br>latitude=%{lat}<br>longitude=%{lon}<extra></extra>\",\"lat\":[-20.85000771],\"legendgroup\":\"Esp\\u00edrito Santo\",\"lon\":[-41.12998071],\"marker\":{\"color\":\"#B6E880\",\"size\":[105.28],\"sizemode\":\"area\",\"sizeref\":0.395675},\"mode\":\"markers\",\"name\":\"Esp\\u00edrito Santo\",\"showlegend\":true,\"subplot\":\"mapbox\",\"type\":\"scattermapbox\"},{\"hovertemplate\":\"state=Goi\\u00e1s<br>payment_value=%{marker.size}<br>latitude=%{lat}<br>longitude=%{lon}<extra></extra>\",\"lat\":[-17.73004311],\"legendgroup\":\"Goi\\u00e1s\",\"lon\":[-49.10998458],\"marker\":{\"color\":\"#FF97FF\",\"size\":[107.96],\"sizemode\":\"area\",\"sizeref\":0.395675},\"mode\":\"markers\",\"name\":\"Goi\\u00e1s\",\"showlegend\":true,\"subplot\":\"mapbox\",\"type\":\"scattermapbox\"},{\"hovertemplate\":\"state=Maranh\\u00e3o<br>payment_value=%{marker.size}<br>latitude=%{lat}<br>longitude=%{lon}<extra></extra>\",\"lat\":[-5.809995505],\"legendgroup\":\"Maranh\\u00e3o\",\"lon\":[-46.14998438],\"marker\":{\"color\":\"#FECB52\",\"size\":[130.655],\"sizemode\":\"area\",\"sizeref\":0.395675},\"mode\":\"markers\",\"name\":\"Maranh\\u00e3o\",\"showlegend\":true,\"subplot\":\"mapbox\",\"type\":\"scattermapbox\"},{\"hovertemplate\":\"state=Mato Grosso<br>payment_value=%{marker.size}<br>latitude=%{lat}<br>longitude=%{lon}<extra></extra>\",\"lat\":[-15.65001504],\"legendgroup\":\"Mato Grosso\",\"lon\":[-56.14002059],\"marker\":{\"color\":\"#636efa\",\"size\":[119.84],\"sizemode\":\"area\",\"sizeref\":0.395675},\"mode\":\"markers\",\"name\":\"Mato Grosso\",\"showlegend\":true,\"subplot\":\"mapbox\",\"type\":\"scattermapbox\"},{\"hovertemplate\":\"state=Mato Grosso do Sul<br>payment_value=%{marker.size}<br>latitude=%{lat}<br>longitude=%{lon}<extra></extra>\",\"lat\":[-22.53000853],\"legendgroup\":\"Mato Grosso do Sul\",\"lon\":[-55.7299681],\"marker\":{\"color\":\"#EF553B\",\"size\":[113.22],\"sizemode\":\"area\",\"sizeref\":0.395675},\"mode\":\"markers\",\"name\":\"Mato Grosso do Sul\",\"showlegend\":true,\"subplot\":\"mapbox\",\"type\":\"scattermapbox\"},{\"hovertemplate\":\"state=Minas Gerais<br>payment_value=%{marker.size}<br>latitude=%{lat}<br>longitude=%{lon}<extra></extra>\",\"lat\":[-18.78000486],\"legendgroup\":\"Minas Gerais\",\"lon\":[-42.95002466],\"marker\":{\"color\":\"#00cc96\",\"size\":[104.79],\"sizemode\":\"area\",\"sizeref\":0.395675},\"mode\":\"markers\",\"name\":\"Minas Gerais\",\"showlegend\":true,\"subplot\":\"mapbox\",\"type\":\"scattermapbox\"},{\"hovertemplate\":\"state=Paran\\u00e1<br>payment_value=%{marker.size}<br>latitude=%{lat}<br>longitude=%{lon}<extra></extra>\",\"lat\":[-24.08996499],\"legendgroup\":\"Paran\\u00e1\",\"lon\":[-54.2699797],\"marker\":{\"color\":\"#ab63fa\",\"size\":[100.37],\"sizemode\":\"area\",\"sizeref\":0.395675},\"mode\":\"markers\",\"name\":\"Paran\\u00e1\",\"showlegend\":true,\"subplot\":\"mapbox\",\"type\":\"scattermapbox\"},{\"hovertemplate\":\"state=Para\\u00edba<br>payment_value=%{marker.size}<br>latitude=%{lat}<br>longitude=%{lon}<extra></extra>\",\"lat\":[-7.019585756],\"legendgroup\":\"Para\\u00edba\",\"lon\":[-37.29000838],\"marker\":{\"color\":\"#FFA15A\",\"size\":[144.93],\"sizemode\":\"area\",\"sizeref\":0.395675},\"mode\":\"markers\",\"name\":\"Para\\u00edba\",\"showlegend\":true,\"subplot\":\"mapbox\",\"type\":\"scattermapbox\"},{\"hovertemplate\":\"state=Par\\u00e1<br>payment_value=%{marker.size}<br>latitude=%{lat}<br>longitude=%{lon}<extra></extra>\",\"lat\":[-1.190019105],\"legendgroup\":\"Par\\u00e1\",\"lon\":[-47.17999903],\"marker\":{\"color\":\"#19d3f3\",\"size\":[135.61],\"sizemode\":\"area\",\"sizeref\":0.395675},\"mode\":\"markers\",\"name\":\"Par\\u00e1\",\"showlegend\":true,\"subplot\":\"mapbox\",\"type\":\"scattermapbox\"},{\"hovertemplate\":\"state=Pernambuco<br>payment_value=%{marker.size}<br>latitude=%{lat}<br>longitude=%{lon}<extra></extra>\",\"lat\":[-8.110010153],\"legendgroup\":\"Pernambuco\",\"lon\":[-35.02004358],\"marker\":{\"color\":\"#FF6692\",\"size\":[125.23],\"sizemode\":\"area\",\"sizeref\":0.395675},\"mode\":\"markers\",\"name\":\"Pernambuco\",\"showlegend\":true,\"subplot\":\"mapbox\",\"type\":\"scattermapbox\"},{\"hovertemplate\":\"state=Piau\\u00ed<br>payment_value=%{marker.size}<br>latitude=%{lat}<br>longitude=%{lon}<extra></extra>\",\"lat\":[-4.820030091],\"legendgroup\":\"Piau\\u00ed\",\"lon\":[-42.18001998],\"marker\":{\"color\":\"#B6E880\",\"size\":[139.49],\"sizemode\":\"area\",\"sizeref\":0.395675},\"mode\":\"markers\",\"name\":\"Piau\\u00ed\",\"showlegend\":true,\"subplot\":\"mapbox\",\"type\":\"scattermapbox\"},{\"hovertemplate\":\"state=Rio Grande do Norte<br>payment_value=%{marker.size}<br>latitude=%{lat}<br>longitude=%{lon}<extra></extra>\",\"lat\":[-5.650005271],\"legendgroup\":\"Rio Grande do Norte\",\"lon\":[-37.80000309],\"marker\":{\"color\":\"#FF97FF\",\"size\":[134.9],\"sizemode\":\"area\",\"sizeref\":0.395675},\"mode\":\"markers\",\"name\":\"Rio Grande do Norte\",\"showlegend\":true,\"subplot\":\"mapbox\",\"type\":\"scattermapbox\"},{\"hovertemplate\":\"state=Rio Grande do Sul<br>payment_value=%{marker.size}<br>latitude=%{lat}<br>longitude=%{lon}<extra></extra>\",\"lat\":[-30.88004148],\"legendgroup\":\"Rio Grande do Sul\",\"lon\":[-55.53000615],\"marker\":{\"color\":\"#FECB52\",\"size\":[105.28],\"sizemode\":\"area\",\"sizeref\":0.395675},\"mode\":\"markers\",\"name\":\"Rio Grande do Sul\",\"showlegend\":true,\"subplot\":\"mapbox\",\"type\":\"scattermapbox\"},{\"hovertemplate\":\"state=Rio de Janeiro<br>payment_value=%{marker.size}<br>latitude=%{lat}<br>longitude=%{lon}<extra></extra>\",\"lat\":[-22.56003253],\"legendgroup\":\"Rio de Janeiro\",\"lon\":[-44.1699502],\"marker\":{\"color\":\"#636efa\",\"size\":[106.02],\"sizemode\":\"area\",\"sizeref\":0.395675},\"mode\":\"markers\",\"name\":\"Rio de Janeiro\",\"showlegend\":true,\"subplot\":\"mapbox\",\"type\":\"scattermapbox\"},{\"hovertemplate\":\"state=Rond\\u00f4nia<br>payment_value=%{marker.size}<br>latitude=%{lat}<br>longitude=%{lon}<extra></extra>\",\"lat\":[-11.64002724],\"legendgroup\":\"Rond\\u00f4nia\",\"lon\":[-61.20999536],\"marker\":{\"color\":\"#EF553B\",\"size\":[151.71],\"sizemode\":\"area\",\"sizeref\":0.395675},\"mode\":\"markers\",\"name\":\"Rond\\u00f4nia\",\"showlegend\":true,\"subplot\":\"mapbox\",\"type\":\"scattermapbox\"},{\"hovertemplate\":\"state=Roraima<br>payment_value=%{marker.size}<br>latitude=%{lat}<br>longitude=%{lon}<extra></extra>\",\"lat\":[1.816231505],\"legendgroup\":\"Roraima\",\"lon\":[-61.12767481],\"marker\":{\"color\":\"#00cc96\",\"size\":[143.57],\"sizemode\":\"area\",\"sizeref\":0.395675},\"mode\":\"markers\",\"name\":\"Roraima\",\"showlegend\":true,\"subplot\":\"mapbox\",\"type\":\"scattermapbox\"},{\"hovertemplate\":\"state=Santa Catarina<br>payment_value=%{marker.size}<br>latitude=%{lat}<br>longitude=%{lon}<extra></extra>\",\"lat\":[-27.23003172],\"legendgroup\":\"Santa Catarina\",\"lon\":[-52.03001306],\"marker\":{\"color\":\"#ab63fa\",\"size\":[107.06],\"sizemode\":\"area\",\"sizeref\":0.395675},\"mode\":\"markers\",\"name\":\"Santa Catarina\",\"showlegend\":true,\"subplot\":\"mapbox\",\"type\":\"scattermapbox\"},{\"hovertemplate\":\"state=Sergipe<br>payment_value=%{marker.size}<br>latitude=%{lat}<br>longitude=%{lon}<extra></extra>\",\"lat\":[-11.26961058],\"legendgroup\":\"Sergipe\",\"lon\":[-37.45002446],\"marker\":{\"color\":\"#FFA15A\",\"size\":[134.99],\"sizemode\":\"area\",\"sizeref\":0.395675},\"mode\":\"markers\",\"name\":\"Sergipe\",\"showlegend\":true,\"subplot\":\"mapbox\",\"type\":\"scattermapbox\"},{\"hovertemplate\":\"state=S\\u00e3o Paulo<br>payment_value=%{marker.size}<br>latitude=%{lat}<br>longitude=%{lon}<extra></extra>\",\"lat\":[-23.65283405],\"legendgroup\":\"S\\u00e3o Paulo\",\"lon\":[-46.52781661],\"marker\":{\"color\":\"#19d3f3\",\"size\":[89.27],\"sizemode\":\"area\",\"sizeref\":0.395675},\"mode\":\"markers\",\"name\":\"S\\u00e3o Paulo\",\"showlegend\":true,\"subplot\":\"mapbox\",\"type\":\"scattermapbox\"},{\"hovertemplate\":\"state=Tocantins<br>payment_value=%{marker.size}<br>latitude=%{lat}<br>longitude=%{lon}<extra></extra>\",\"lat\":[-6.319576804],\"legendgroup\":\"Tocantins\",\"lon\":[-47.41998438],\"marker\":{\"color\":\"#FF6692\",\"size\":[127.925],\"sizemode\":\"area\",\"sizeref\":0.395675},\"mode\":\"markers\",\"name\":\"Tocantins\",\"showlegend\":true,\"subplot\":\"mapbox\",\"type\":\"scattermapbox\"}],                        {\"template\":{\"data\":{\"histogram2dcontour\":[{\"type\":\"histogram2dcontour\",\"colorbar\":{\"outlinewidth\":0,\"ticks\":\"\"},\"colorscale\":[[0.0,\"#0d0887\"],[0.1111111111111111,\"#46039f\"],[0.2222222222222222,\"#7201a8\"],[0.3333333333333333,\"#9c179e\"],[0.4444444444444444,\"#bd3786\"],[0.5555555555555556,\"#d8576b\"],[0.6666666666666666,\"#ed7953\"],[0.7777777777777778,\"#fb9f3a\"],[0.8888888888888888,\"#fdca26\"],[1.0,\"#f0f921\"]]}],\"choropleth\":[{\"type\":\"choropleth\",\"colorbar\":{\"outlinewidth\":0,\"ticks\":\"\"}}],\"histogram2d\":[{\"type\":\"histogram2d\",\"colorbar\":{\"outlinewidth\":0,\"ticks\":\"\"},\"colorscale\":[[0.0,\"#0d0887\"],[0.1111111111111111,\"#46039f\"],[0.2222222222222222,\"#7201a8\"],[0.3333333333333333,\"#9c179e\"],[0.4444444444444444,\"#bd3786\"],[0.5555555555555556,\"#d8576b\"],[0.6666666666666666,\"#ed7953\"],[0.7777777777777778,\"#fb9f3a\"],[0.8888888888888888,\"#fdca26\"],[1.0,\"#f0f921\"]]}],\"heatmap\":[{\"type\":\"heatmap\",\"colorbar\":{\"outlinewidth\":0,\"ticks\":\"\"},\"colorscale\":[[0.0,\"#0d0887\"],[0.1111111111111111,\"#46039f\"],[0.2222222222222222,\"#7201a8\"],[0.3333333333333333,\"#9c179e\"],[0.4444444444444444,\"#bd3786\"],[0.5555555555555556,\"#d8576b\"],[0.6666666666666666,\"#ed7953\"],[0.7777777777777778,\"#fb9f3a\"],[0.8888888888888888,\"#fdca26\"],[1.0,\"#f0f921\"]]}],\"heatmapgl\":[{\"type\":\"heatmapgl\",\"colorbar\":{\"outlinewidth\":0,\"ticks\":\"\"},\"colorscale\":[[0.0,\"#0d0887\"],[0.1111111111111111,\"#46039f\"],[0.2222222222222222,\"#7201a8\"],[0.3333333333333333,\"#9c179e\"],[0.4444444444444444,\"#bd3786\"],[0.5555555555555556,\"#d8576b\"],[0.6666666666666666,\"#ed7953\"],[0.7777777777777778,\"#fb9f3a\"],[0.8888888888888888,\"#fdca26\"],[1.0,\"#f0f921\"]]}],\"contourcarpet\":[{\"type\":\"contourcarpet\",\"colorbar\":{\"outlinewidth\":0,\"ticks\":\"\"}}],\"contour\":[{\"type\":\"contour\",\"colorbar\":{\"outlinewidth\":0,\"ticks\":\"\"},\"colorscale\":[[0.0,\"#0d0887\"],[0.1111111111111111,\"#46039f\"],[0.2222222222222222,\"#7201a8\"],[0.3333333333333333,\"#9c179e\"],[0.4444444444444444,\"#bd3786\"],[0.5555555555555556,\"#d8576b\"],[0.6666666666666666,\"#ed7953\"],[0.7777777777777778,\"#fb9f3a\"],[0.8888888888888888,\"#fdca26\"],[1.0,\"#f0f921\"]]}],\"surface\":[{\"type\":\"surface\",\"colorbar\":{\"outlinewidth\":0,\"ticks\":\"\"},\"colorscale\":[[0.0,\"#0d0887\"],[0.1111111111111111,\"#46039f\"],[0.2222222222222222,\"#7201a8\"],[0.3333333333333333,\"#9c179e\"],[0.4444444444444444,\"#bd3786\"],[0.5555555555555556,\"#d8576b\"],[0.6666666666666666,\"#ed7953\"],[0.7777777777777778,\"#fb9f3a\"],[0.8888888888888888,\"#fdca26\"],[1.0,\"#f0f921\"]]}],\"mesh3d\":[{\"type\":\"mesh3d\",\"colorbar\":{\"outlinewidth\":0,\"ticks\":\"\"}}],\"scatter\":[{\"fillpattern\":{\"fillmode\":\"overlay\",\"size\":10,\"solidity\":0.2},\"type\":\"scatter\"}],\"parcoords\":[{\"type\":\"parcoords\",\"line\":{\"colorbar\":{\"outlinewidth\":0,\"ticks\":\"\"}}}],\"scatterpolargl\":[{\"type\":\"scatterpolargl\",\"marker\":{\"colorbar\":{\"outlinewidth\":0,\"ticks\":\"\"}}}],\"bar\":[{\"error_x\":{\"color\":\"#2a3f5f\"},\"error_y\":{\"color\":\"#2a3f5f\"},\"marker\":{\"line\":{\"color\":\"#E5ECF6\",\"width\":0.5},\"pattern\":{\"fillmode\":\"overlay\",\"size\":10,\"solidity\":0.2}},\"type\":\"bar\"}],\"scattergeo\":[{\"type\":\"scattergeo\",\"marker\":{\"colorbar\":{\"outlinewidth\":0,\"ticks\":\"\"}}}],\"scatterpolar\":[{\"type\":\"scatterpolar\",\"marker\":{\"colorbar\":{\"outlinewidth\":0,\"ticks\":\"\"}}}],\"histogram\":[{\"marker\":{\"pattern\":{\"fillmode\":\"overlay\",\"size\":10,\"solidity\":0.2}},\"type\":\"histogram\"}],\"scattergl\":[{\"type\":\"scattergl\",\"marker\":{\"colorbar\":{\"outlinewidth\":0,\"ticks\":\"\"}}}],\"scatter3d\":[{\"type\":\"scatter3d\",\"line\":{\"colorbar\":{\"outlinewidth\":0,\"ticks\":\"\"}},\"marker\":{\"colorbar\":{\"outlinewidth\":0,\"ticks\":\"\"}}}],\"scattermapbox\":[{\"type\":\"scattermapbox\",\"marker\":{\"colorbar\":{\"outlinewidth\":0,\"ticks\":\"\"}}}],\"scatterternary\":[{\"type\":\"scatterternary\",\"marker\":{\"colorbar\":{\"outlinewidth\":0,\"ticks\":\"\"}}}],\"scattercarpet\":[{\"type\":\"scattercarpet\",\"marker\":{\"colorbar\":{\"outlinewidth\":0,\"ticks\":\"\"}}}],\"carpet\":[{\"aaxis\":{\"endlinecolor\":\"#2a3f5f\",\"gridcolor\":\"white\",\"linecolor\":\"white\",\"minorgridcolor\":\"white\",\"startlinecolor\":\"#2a3f5f\"},\"baxis\":{\"endlinecolor\":\"#2a3f5f\",\"gridcolor\":\"white\",\"linecolor\":\"white\",\"minorgridcolor\":\"white\",\"startlinecolor\":\"#2a3f5f\"},\"type\":\"carpet\"}],\"table\":[{\"cells\":{\"fill\":{\"color\":\"#EBF0F8\"},\"line\":{\"color\":\"white\"}},\"header\":{\"fill\":{\"color\":\"#C8D4E3\"},\"line\":{\"color\":\"white\"}},\"type\":\"table\"}],\"barpolar\":[{\"marker\":{\"line\":{\"color\":\"#E5ECF6\",\"width\":0.5},\"pattern\":{\"fillmode\":\"overlay\",\"size\":10,\"solidity\":0.2}},\"type\":\"barpolar\"}],\"pie\":[{\"automargin\":true,\"type\":\"pie\"}]},\"layout\":{\"autotypenumbers\":\"strict\",\"colorway\":[\"#636efa\",\"#EF553B\",\"#00cc96\",\"#ab63fa\",\"#FFA15A\",\"#19d3f3\",\"#FF6692\",\"#B6E880\",\"#FF97FF\",\"#FECB52\"],\"font\":{\"color\":\"#2a3f5f\"},\"hovermode\":\"closest\",\"hoverlabel\":{\"align\":\"left\"},\"paper_bgcolor\":\"white\",\"plot_bgcolor\":\"#E5ECF6\",\"polar\":{\"bgcolor\":\"#E5ECF6\",\"angularaxis\":{\"gridcolor\":\"white\",\"linecolor\":\"white\",\"ticks\":\"\"},\"radialaxis\":{\"gridcolor\":\"white\",\"linecolor\":\"white\",\"ticks\":\"\"}},\"ternary\":{\"bgcolor\":\"#E5ECF6\",\"aaxis\":{\"gridcolor\":\"white\",\"linecolor\":\"white\",\"ticks\":\"\"},\"baxis\":{\"gridcolor\":\"white\",\"linecolor\":\"white\",\"ticks\":\"\"},\"caxis\":{\"gridcolor\":\"white\",\"linecolor\":\"white\",\"ticks\":\"\"}},\"coloraxis\":{\"colorbar\":{\"outlinewidth\":0,\"ticks\":\"\"}},\"colorscale\":{\"sequential\":[[0.0,\"#0d0887\"],[0.1111111111111111,\"#46039f\"],[0.2222222222222222,\"#7201a8\"],[0.3333333333333333,\"#9c179e\"],[0.4444444444444444,\"#bd3786\"],[0.5555555555555556,\"#d8576b\"],[0.6666666666666666,\"#ed7953\"],[0.7777777777777778,\"#fb9f3a\"],[0.8888888888888888,\"#fdca26\"],[1.0,\"#f0f921\"]],\"sequentialminus\":[[0.0,\"#0d0887\"],[0.1111111111111111,\"#46039f\"],[0.2222222222222222,\"#7201a8\"],[0.3333333333333333,\"#9c179e\"],[0.4444444444444444,\"#bd3786\"],[0.5555555555555556,\"#d8576b\"],[0.6666666666666666,\"#ed7953\"],[0.7777777777777778,\"#fb9f3a\"],[0.8888888888888888,\"#fdca26\"],[1.0,\"#f0f921\"]],\"diverging\":[[0,\"#8e0152\"],[0.1,\"#c51b7d\"],[0.2,\"#de77ae\"],[0.3,\"#f1b6da\"],[0.4,\"#fde0ef\"],[0.5,\"#f7f7f7\"],[0.6,\"#e6f5d0\"],[0.7,\"#b8e186\"],[0.8,\"#7fbc41\"],[0.9,\"#4d9221\"],[1,\"#276419\"]]},\"xaxis\":{\"gridcolor\":\"white\",\"linecolor\":\"white\",\"ticks\":\"\",\"title\":{\"standoff\":15},\"zerolinecolor\":\"white\",\"automargin\":true,\"zerolinewidth\":2},\"yaxis\":{\"gridcolor\":\"white\",\"linecolor\":\"white\",\"ticks\":\"\",\"title\":{\"standoff\":15},\"zerolinecolor\":\"white\",\"automargin\":true,\"zerolinewidth\":2},\"scene\":{\"xaxis\":{\"backgroundcolor\":\"#E5ECF6\",\"gridcolor\":\"white\",\"linecolor\":\"white\",\"showbackground\":true,\"ticks\":\"\",\"zerolinecolor\":\"white\",\"gridwidth\":2},\"yaxis\":{\"backgroundcolor\":\"#E5ECF6\",\"gridcolor\":\"white\",\"linecolor\":\"white\",\"showbackground\":true,\"ticks\":\"\",\"zerolinecolor\":\"white\",\"gridwidth\":2},\"zaxis\":{\"backgroundcolor\":\"#E5ECF6\",\"gridcolor\":\"white\",\"linecolor\":\"white\",\"showbackground\":true,\"ticks\":\"\",\"zerolinecolor\":\"white\",\"gridwidth\":2}},\"shapedefaults\":{\"line\":{\"color\":\"#2a3f5f\"}},\"annotationdefaults\":{\"arrowcolor\":\"#2a3f5f\",\"arrowhead\":0,\"arrowwidth\":1},\"geo\":{\"bgcolor\":\"white\",\"landcolor\":\"#E5ECF6\",\"subunitcolor\":\"white\",\"showland\":true,\"showlakes\":true,\"lakecolor\":\"white\"},\"title\":{\"x\":0.05},\"mapbox\":{\"style\":\"light\"}}},\"mapbox\":{\"domain\":{\"x\":[0.0,1.0],\"y\":[0.0,1.0]},\"center\":{\"lat\":-12.622523498074075,\"lon\":-47.945238946296286},\"zoom\":1,\"style\":\"carto-positron\"},\"legend\":{\"title\":{\"text\":\"state\"},\"tracegroupgap\":0,\"itemsizing\":\"constant\"},\"title\":{\"text\":\"Total amount of the payment by States\",\"x\":0.45,\"y\":0.95}},                        {\"responsive\": true}                    ).then(function(){\n",
       "                            \n",
       "var gd = document.getElementById('08f7d10d-2b1b-49cb-a72e-bdb12d12c0ca');\n",
       "var x = new MutationObserver(function (mutations, observer) {{\n",
       "        var display = window.getComputedStyle(gd).display;\n",
       "        if (!display || display === 'none') {{\n",
       "            console.log([gd, 'removed!']);\n",
       "            Plotly.purge(gd);\n",
       "            observer.disconnect();\n",
       "        }}\n",
       "}});\n",
       "\n",
       "// Listen for the removal of the full notebook cells\n",
       "var notebookContainer = gd.closest('#notebook-container');\n",
       "if (notebookContainer) {{\n",
       "    x.observe(notebookContainer, {childList: true});\n",
       "}}\n",
       "\n",
       "// Listen for the clearing of the current output cell\n",
       "var outputEl = gd.closest('.output');\n",
       "if (outputEl) {{\n",
       "    x.observe(outputEl, {childList: true});\n",
       "}}\n",
       "\n",
       "                        })                };                });            </script>        </div>"
      ]
     },
     "metadata": {},
     "output_type": "display_data"
    }
   ],
   "source": [
    "# regroupement par catégorie de produit. Affiche CA par categorie. On peut egalement voir le score review\n",
    "\n",
    "df.groupby(by=[\"product_category_name_english\"]).sum()\n",
    "\n",
    "# montant total depensé par pays origine des acheteurs. Top pays client.\n",
    "\n",
    "top_country = df.groupby(by=[\"customer_city\"]).sum().sort_values(by=[\"payment_value\"], ascending=False)\n",
    "top_country\n",
    "\n",
    "# regroupement par note client, par ordre decroissant sur le montant total\n",
    "\n",
    "m = df.groupby(by=[\"review_score\"]).sum().sort_values(by=[\"payment_value\"], ascending=False)\n",
    "m\n",
    "\n",
    "# Import d'un fichier contenant les coordoonnées géographiques de chaque pays\n",
    "\n",
    "brazil_lat_long = pd.read_csv('data/Brazil_states.csv')\n",
    "\n",
    "#merge avec notre dataset\n",
    "\n",
    "merge_lats_long_df = df.merge(brazil_lat_long,how=\"left\",left_on = \"customer_state\",right_on=\"subdivision\")\n",
    "\n",
    "# groupby + rename column \n",
    "df_lat = merge_lats_long_df.groupby(\"name\").median()\n",
    "df_lat_reset = df_lat.reset_index().rename(columns = {\"name\": \"state\"})\n",
    "\n",
    "# Plot du salaire médian par pays\n",
    "\n",
    "fig = px.scatter_mapbox(df_lat_reset, lat=\"latitude\", lon=\"longitude\", color=\"state\",\n",
    "                        size=\"payment_value\",zoom=1, mapbox_style=\"carto-positron\",title = \"Total amount of the payment by States\")\n",
    "fig.update_layout(\n",
    "    title_x=0.45,\n",
    "    title_y=0.95)\n",
    "fig.show()"
   ]
  },
  {
   "cell_type": "code",
   "execution_count": 192,
   "id": "5139448a",
   "metadata": {},
   "outputs": [
    {
     "name": "stderr",
     "output_type": "stream",
     "text": [
      "/tmp/ipykernel_512/1785134040.py:6: UserWarning:\n",
      "\n",
      "FixedFormatter should only be used together with FixedLocator\n",
      "\n"
     ]
    },
    {
     "data": {
      "image/png": "[encoded data removed]",
      "text/plain": [
       "<Figure size 640x480 with 1 Axes>"
      ]
     },
     "metadata": {},
     "output_type": "display_data"
    }
   ],
   "source": [
    "evolution_2 = df.groupby(by=[\"order_purchase_timestamp_year\",\"order_purchase_timestamp_month\"]).sum()\n",
    "g = evolution_2[\"payment_value\"].plot(kind=\"bar\",color=\"orange\")\n",
    "plt.title(\"Chiffre d'affaire au cours du temps\")\n",
    "sns.set_theme(context='notebook', style='darkgrid', palette='deep', font='sans-serif', \n",
    "                  font_scale=1, color_codes=True, rc=None)\n",
    "g.set_yticklabels([0,\"200 000\",\"400 000\",\"600 000\",\"800 000\",\"1 000 000\",\"1 200 000\"])\n",
    "plt.xticks(rotation=60)\n",
    "plt.xlabel(\"Evolution au cours du temps\")\n",
    "plt.ylabel(\"Chiffre d'affaire en millions d'euros\")\n",
    "plt.xticks(rotation=60)\n",
    "plt.show()"
   ]
  },
  {
   "cell_type": "code",
   "execution_count": 193,
   "id": "1d33d97b",
   "metadata": {},
   "outputs": [
    {
     "data": {
      "text/plain": [
       "([0, 1, 2, 3, 4, 5, 6],\n",
       " [Text(0, 0, ''),\n",
       "  Text(0, 0, ''),\n",
       "  Text(0, 0, ''),\n",
       "  Text(0, 0, ''),\n",
       "  Text(0, 0, ''),\n",
       "  Text(0, 0, ''),\n",
       "  Text(0, 0, '')])"
      ]
     },
     "execution_count": 193,
     "metadata": {},
     "output_type": "execute_result"
    },
    {
     "data": {
      "image/png": "[encoded data removed]",
      "text/plain": [
       "<Figure size 640x480 with 1 Axes>"
      ]
     },
     "metadata": {},
     "output_type": "display_data"
    }
   ],
   "source": [
    "# Missing categories orders by product categories\n",
    "product_nan = df[df[\"product_category_name_english\"].isna()]\n",
    "sns.histplot(data=product_nan, x=\"order_status\")\n",
    "plt.title(\"Missing categories orders by product categories\")\n",
    "plt.xlabel(\"Product categories\")\n",
    "plt.ylabel(\"Number of orders\")\n",
    "plt.xticks(rotation=70)"
   ]
  },
  {
   "cell_type": "code",
   "execution_count": 1,
   "id": "9526f630",
   "metadata": {},
   "outputs": [
    {
     "ename": "NameError",
     "evalue": "name 'df' is not defined",
     "output_type": "error",
     "traceback": [
      "\u001b[0;31m---------------------------------------------------------------------------\u001b[0m",
      "\u001b[0;31mNameError\u001b[0m                                 Traceback (most recent call last)",
      "Cell \u001b[0;32mIn [1], line 2\u001b[0m\n\u001b[1;32m      1\u001b[0m \u001b[38;5;66;03m# Dates de livraison manquantes observées par leur statut de livraison\u001b[39;00m\n\u001b[0;32m----> 2\u001b[0m delivered_nan \u001b[38;5;241m=\u001b[39m \u001b[43mdf\u001b[49m[df[\u001b[38;5;124m\"\u001b[39m\u001b[38;5;124morder_delivered_customer_date\u001b[39m\u001b[38;5;124m\"\u001b[39m]\u001b[38;5;241m.\u001b[39misna()]\n\u001b[1;32m      3\u001b[0m sns\u001b[38;5;241m.\u001b[39mhistplot(data\u001b[38;5;241m=\u001b[39mdelivered_nan, x\u001b[38;5;241m=\u001b[39m\u001b[38;5;124m\"\u001b[39m\u001b[38;5;124morder_status\u001b[39m\u001b[38;5;124m\"\u001b[39m)\n\u001b[1;32m      4\u001b[0m plt\u001b[38;5;241m.\u001b[39mtitle(\u001b[38;5;124m\"\u001b[39m\u001b[38;5;124mMissing order delivered customer date by order status\u001b[39m\u001b[38;5;124m\"\u001b[39m)\n",
      "\u001b[0;31mNameError\u001b[0m: name 'df' is not defined"
     ]
    }
   ],
   "source": [
    "# Dates de livraison manquantes observées par leur statut de livraison\n",
    "delivered_nan = df[df[\"order_delivered_customer_date\"].isna()]\n",
    "sns.histplot(data=delivered_nan, x=\"order_status\")\n",
    "plt.title(\"Missing order delivered customer date by order status\")\n",
    "plt.xlabel(\"Order status\")\n",
    "plt.ylabel(\"Number of orders\")\n",
    "plt.xticks(rotation=70)"
   ]
  },
  {
   "cell_type": "code",
   "execution_count": 195,
   "id": "ff56b593",
   "metadata": {},
   "outputs": [
    {
     "data": {
      "image/png": "[encoded data removed]",
      "text/plain": [
       "<Figure size 640x480 with 1 Axes>"
      ]
     },
     "metadata": {},
     "output_type": "display_data"
    }
   ],
   "source": [
    "# Note moyenne par moyen de paiement\n",
    "review = df.groupby(by=[\"payment_type\"]).mean()\n",
    "e = review[\"review_score\"].plot(kind=\"barh\")\n",
    "plt.title(\"Moyenne note client en fonction du moyen de paiement\")\n",
    "sns.set_theme(context='notebook', style='darkgrid', palette='deep', font='sans-serif', \n",
    "                  font_scale=1, color_codes=True, rc=None)\n",
    "e.bar_label(e.containers[0])\n",
    "plt.xticks(rotation=60)\n",
    "plt.xlabel(\"Note sur 5\")\n",
    "plt.ylabel(\"Moyen de paiement\")\n",
    "plt.xticks(rotation=60)\n",
    "plt.show()"
   ]
  },
  {
   "cell_type": "code",
   "execution_count": 196,
   "id": "e2fe13b7",
   "metadata": {},
   "outputs": [
    {
     "name": "stderr",
     "output_type": "stream",
     "text": [
      "/tmp/ipykernel_512/2068563398.py:8: UserWarning:\n",
      "\n",
      "FixedFormatter should only be used together with FixedLocator\n",
      "\n"
     ]
    },
    {
     "data": {
      "text/plain": [
       "<Figure size 1000x3000 with 0 Axes>"
      ]
     },
     "execution_count": 196,
     "metadata": {},
     "output_type": "execute_result"
    },
    {
     "data": {
      "image/png": "[encoded data removed]",
      "text/plain": [
       "<Figure size 640x480 with 1 Axes>"
      ]
     },
     "metadata": {},
     "output_type": "display_data"
    },
    {
     "data": {
      "text/plain": [
       "<Figure size 1000x3000 with 0 Axes>"
      ]
     },
     "metadata": {},
     "output_type": "display_data"
    }
   ],
   "source": [
    "# Top vente par categorie produit\n",
    "top_sales = df.groupby(by=[\"product_category_name_english\"]).sum().sort_values(by=[\"payment_installments\"], ascending=False)\n",
    "top_sales\n",
    "import matplotlib.pyplot as plt\n",
    "g = sns.barplot(data=top_sales.nlargest(10, 'payment_value'), y=top_sales.index[:10], x=\"payment_value\")\n",
    "sns.set_theme(context='notebook', style='darkgrid', palette='deep', font='sans-serif', \n",
    "                  font_scale=1, color_codes=True, rc=None)\n",
    "g.set_xticklabels([0,\"200 000\",\"400 000\",\"600 000\",\"800 000\",\"1 000 000\",\"1 200 000\", \"1 400 000\"])\n",
    "plt.xticks(rotation=60)\n",
    "plt.title(\"Top ventes par categorie produit\")\n",
    "plt.ylabel(\"Categories\")\n",
    "plt.xlabel(\"CA\")\n",
    "plt.figure(figsize=(10,30))"
   ]
  },
  {
   "cell_type": "markdown",
   "id": "b01a3b9a",
   "metadata": {},
   "source": [
    "## RFM"
   ]
  },
  {
   "cell_type": "code",
   "execution_count": 197,
   "id": "4a8a91d4",
   "metadata": {},
   "outputs": [
    {
     "data": {
      "text/html": [
       "<div>\n",
       "<style scoped>\n",
       "    .dataframe tbody tr th:only-of-type {\n",
       "        vertical-align: middle;\n",
       "    }\n",
       "\n",
       "    .dataframe tbody tr th {\n",
       "        vertical-align: top;\n",
       "    }\n",
       "\n",
       "    .dataframe thead th {\n",
       "        text-align: right;\n",
       "    }\n",
       "</style>\n",
       "<table border=\"1\" class=\"dataframe\">\n",
       "  <thead>\n",
       "    <tr style=\"text-align: right;\">\n",
       "      <th></th>\n",
       "      <th>Unnamed: 0</th>\n",
       "      <th>order_id</th>\n",
       "      <th>customer_id</th>\n",
       "      <th>order_status</th>\n",
       "      <th>order_purchase_timestamp</th>\n",
       "      <th>order_delivered_customer_date</th>\n",
       "      <th>payment_type</th>\n",
       "      <th>payment_installments</th>\n",
       "      <th>payment_value</th>\n",
       "      <th>review_score</th>\n",
       "      <th>customer_unique_id</th>\n",
       "      <th>customer_zip_code_prefix</th>\n",
       "      <th>customer_city</th>\n",
       "      <th>customer_state</th>\n",
       "      <th>product_category_name_english</th>\n",
       "    </tr>\n",
       "  </thead>\n",
       "  <tbody>\n",
       "    <tr>\n",
       "      <th>0</th>\n",
       "      <td>0</td>\n",
       "      <td>e481f51cbdc54678b7cc49136f2d6af7</td>\n",
       "      <td>9ef432eb6251297304e76186b10a928d</td>\n",
       "      <td>delivered</td>\n",
       "      <td>2017-10-02 10:56:33</td>\n",
       "      <td>2017-10-10 21:25:13</td>\n",
       "      <td>credit_card</td>\n",
       "      <td>1.0</td>\n",
       "      <td>18.12</td>\n",
       "      <td>4</td>\n",
       "      <td>7c396fd4830fd04220f754e42b4e5bff</td>\n",
       "      <td>3149</td>\n",
       "      <td>sao paulo</td>\n",
       "      <td>SP</td>\n",
       "      <td>housewares</td>\n",
       "    </tr>\n",
       "    <tr>\n",
       "      <th>1</th>\n",
       "      <td>1</td>\n",
       "      <td>e481f51cbdc54678b7cc49136f2d6af7</td>\n",
       "      <td>9ef432eb6251297304e76186b10a928d</td>\n",
       "      <td>delivered</td>\n",
       "      <td>2017-10-02 10:56:33</td>\n",
       "      <td>2017-10-10 21:25:13</td>\n",
       "      <td>voucher</td>\n",
       "      <td>1.0</td>\n",
       "      <td>2.00</td>\n",
       "      <td>4</td>\n",
       "      <td>7c396fd4830fd04220f754e42b4e5bff</td>\n",
       "      <td>3149</td>\n",
       "      <td>sao paulo</td>\n",
       "      <td>SP</td>\n",
       "      <td>housewares</td>\n",
       "    </tr>\n",
       "    <tr>\n",
       "      <th>2</th>\n",
       "      <td>2</td>\n",
       "      <td>e481f51cbdc54678b7cc49136f2d6af7</td>\n",
       "      <td>9ef432eb6251297304e76186b10a928d</td>\n",
       "      <td>delivered</td>\n",
       "      <td>2017-10-02 10:56:33</td>\n",
       "      <td>2017-10-10 21:25:13</td>\n",
       "      <td>voucher</td>\n",
       "      <td>1.0</td>\n",
       "      <td>18.59</td>\n",
       "      <td>4</td>\n",
       "      <td>7c396fd4830fd04220f754e42b4e5bff</td>\n",
       "      <td>3149</td>\n",
       "      <td>sao paulo</td>\n",
       "      <td>SP</td>\n",
       "      <td>housewares</td>\n",
       "    </tr>\n",
       "    <tr>\n",
       "      <th>3</th>\n",
       "      <td>3</td>\n",
       "      <td>53cdb2fc8bc7dce0b6741e2150273451</td>\n",
       "      <td>b0830fb4747a6c6d20dea0b8c802d7ef</td>\n",
       "      <td>delivered</td>\n",
       "      <td>2018-07-24 20:41:37</td>\n",
       "      <td>2018-08-07 15:27:45</td>\n",
       "      <td>boleto</td>\n",
       "      <td>1.0</td>\n",
       "      <td>141.46</td>\n",
       "      <td>4</td>\n",
       "      <td>af07308b275d755c9edb36a90c618231</td>\n",
       "      <td>47813</td>\n",
       "      <td>barreiras</td>\n",
       "      <td>BA</td>\n",
       "      <td>perfumery</td>\n",
       "    </tr>\n",
       "    <tr>\n",
       "      <th>4</th>\n",
       "      <td>4</td>\n",
       "      <td>47770eb9100c2d0c44946d9cf07ec65d</td>\n",
       "      <td>41ce2a54c0b03bf3443c3d931a367089</td>\n",
       "      <td>delivered</td>\n",
       "      <td>2018-08-08 08:38:49</td>\n",
       "      <td>2018-08-17 18:06:29</td>\n",
       "      <td>credit_card</td>\n",
       "      <td>3.0</td>\n",
       "      <td>179.12</td>\n",
       "      <td>5</td>\n",
       "      <td>3a653a41f6f9fc3d2a113cf8398680e8</td>\n",
       "      <td>75265</td>\n",
       "      <td>vianopolis</td>\n",
       "      <td>GO</td>\n",
       "      <td>auto</td>\n",
       "    </tr>\n",
       "  </tbody>\n",
       "</table>\n",
       "</div>"
      ],
      "text/plain": [
       "   Unnamed: 0                          order_id  \\\n",
       "0           0  e481f51cbdc54678b7cc49136f2d6af7   \n",
       "1           1  e481f51cbdc54678b7cc49136f2d6af7   \n",
       "2           2  e481f51cbdc54678b7cc49136f2d6af7   \n",
       "3           3  53cdb2fc8bc7dce0b6741e2150273451   \n",
       "4           4  47770eb9100c2d0c44946d9cf07ec65d   \n",
       "\n",
       "                        customer_id order_status order_purchase_timestamp  \\\n",
       "0  9ef432eb6251297304e76186b10a928d    delivered      2017-10-02 10:56:33   \n",
       "1  9ef432eb6251297304e76186b10a928d    delivered      2017-10-02 10:56:33   \n",
       "2  9ef432eb6251297304e76186b10a928d    delivered      2017-10-02 10:56:33   \n",
       "3  b0830fb4747a6c6d20dea0b8c802d7ef    delivered      2018-07-24 20:41:37   \n",
       "4  41ce2a54c0b03bf3443c3d931a367089    delivered      2018-08-08 08:38:49   \n",
       "\n",
       "  order_delivered_customer_date payment_type  payment_installments  \\\n",
       "0           2017-10-10 21:25:13  credit_card                   1.0   \n",
       "1           2017-10-10 21:25:13      voucher                   1.0   \n",
       "2           2017-10-10 21:25:13      voucher                   1.0   \n",
       "3           2018-08-07 15:27:45       boleto                   1.0   \n",
       "4           2018-08-17 18:06:29  credit_card                   3.0   \n",
       "\n",
       "   payment_value  review_score                customer_unique_id  \\\n",
       "0          18.12             4  7c396fd4830fd04220f754e42b4e5bff   \n",
       "1           2.00             4  7c396fd4830fd04220f754e42b4e5bff   \n",
       "2          18.59             4  7c396fd4830fd04220f754e42b4e5bff   \n",
       "3         141.46             4  af07308b275d755c9edb36a90c618231   \n",
       "4         179.12             5  3a653a41f6f9fc3d2a113cf8398680e8   \n",
       "\n",
       "   customer_zip_code_prefix customer_city customer_state  \\\n",
       "0                      3149     sao paulo             SP   \n",
       "1                      3149     sao paulo             SP   \n",
       "2                      3149     sao paulo             SP   \n",
       "3                     47813     barreiras             BA   \n",
       "4                     75265    vianopolis             GO   \n",
       "\n",
       "  product_category_name_english  \n",
       "0                    housewares  \n",
       "1                    housewares  \n",
       "2                    housewares  \n",
       "3                     perfumery  \n",
       "4                          auto  "
      ]
     },
     "execution_count": 197,
     "metadata": {},
     "output_type": "execute_result"
    }
   ],
   "source": [
    "df_no_nan.head(5)"
   ]
  },
  {
   "cell_type": "markdown",
   "id": "093ca160",
   "metadata": {},
   "source": [
    "### Grouby RFM"
   ]
  },
  {
   "cell_type": "code",
   "execution_count": 200,
   "id": "8ed89bf4",
   "metadata": {},
   "outputs": [],
   "source": [
    "# calculer la date maximale dans la colonne \"order_purchase_timestamp\"\n",
    "max_date = df[\"order_purchase_timestamp\"].max()\n",
    "\n",
    "# ajouter un jour à la date maximale\n",
    "new_max_date = max_date + pd.Timedelta(days=1)\n",
    "\n",
    "# créer la nouvelle colonne \"recency_purchase\" en utilisant la date maximale modifiée\n",
    "df[\"recency_purchase\"] = (new_max_date - df[\"order_purchase_timestamp\"]).dt.days"
   ]
  },
  {
   "cell_type": "code",
   "execution_count": 201,
   "id": "55ddc18f",
   "metadata": {},
   "outputs": [],
   "source": [
    "# Group by \n",
    "RFM = df.groupby([\"customer_unique_id\"]).agg({\n",
    "    'recency_purchase' : 'mean',\n",
    "    'order_id' : 'count',\n",
    "    'payment_value' : 'sum'\n",
    "}).round(1)\n",
    "\n",
    "RFM.rename(columns={ 'recency_purchase': 'Recency', 'order_id': 'Frequence', 'payment_value': 'TotalPrice'}, inplace = True)\n",
    "RFM = RFM.sort_values(by = [\"Frequence\"], ascending = False)"
   ]
  },
  {
   "cell_type": "code",
   "execution_count": 202,
   "id": "44016a34",
   "metadata": {
    "scrolled": false
   },
   "outputs": [
    {
     "data": {
      "text/html": [
       "<div>\n",
       "<style scoped>\n",
       "    .dataframe tbody tr th:only-of-type {\n",
       "        vertical-align: middle;\n",
       "    }\n",
       "\n",
       "    .dataframe tbody tr th {\n",
       "        vertical-align: top;\n",
       "    }\n",
       "\n",
       "    .dataframe thead th {\n",
       "        text-align: right;\n",
       "    }\n",
       "</style>\n",
       "<table border=\"1\" class=\"dataframe\">\n",
       "  <thead>\n",
       "    <tr style=\"text-align: right;\">\n",
       "      <th></th>\n",
       "      <th>Recency</th>\n",
       "      <th>Frequence</th>\n",
       "      <th>TotalPrice</th>\n",
       "    </tr>\n",
       "    <tr>\n",
       "      <th>customer_unique_id</th>\n",
       "      <th></th>\n",
       "      <th></th>\n",
       "      <th></th>\n",
       "    </tr>\n",
       "  </thead>\n",
       "  <tbody>\n",
       "    <tr>\n",
       "      <th>9a736b248f67d166d2fbb006bcb877c3</th>\n",
       "      <td>437.9</td>\n",
       "      <td>54</td>\n",
       "      <td>394.8</td>\n",
       "    </tr>\n",
       "    <tr>\n",
       "      <th>8af7ac63b2efbcbd88e5b11505e8098a</th>\n",
       "      <td>546.0</td>\n",
       "      <td>29</td>\n",
       "      <td>458.0</td>\n",
       "    </tr>\n",
       "    <tr>\n",
       "      <th>569aa12b73b5f7edeaa6f2a01603e381</th>\n",
       "      <td>498.0</td>\n",
       "      <td>26</td>\n",
       "      <td>62.7</td>\n",
       "    </tr>\n",
       "    <tr>\n",
       "      <th>1d2435aa3b858d45c707c9fc25e18779</th>\n",
       "      <td>639.0</td>\n",
       "      <td>24</td>\n",
       "      <td>233.7</td>\n",
       "    </tr>\n",
       "    <tr>\n",
       "      <th>90807fdb59eec2152bc977feeb6e47e7</th>\n",
       "      <td>327.0</td>\n",
       "      <td>24</td>\n",
       "      <td>215.7</td>\n",
       "    </tr>\n",
       "    <tr>\n",
       "      <th>...</th>\n",
       "      <td>...</td>\n",
       "      <td>...</td>\n",
       "      <td>...</td>\n",
       "    </tr>\n",
       "    <tr>\n",
       "      <th>57cd75ea0d4df751cb635cbae8596411</th>\n",
       "      <td>374.0</td>\n",
       "      <td>1</td>\n",
       "      <td>158.1</td>\n",
       "    </tr>\n",
       "    <tr>\n",
       "      <th>57cd06ab5e1452f461555dda1deb3d5c</th>\n",
       "      <td>257.0</td>\n",
       "      <td>1</td>\n",
       "      <td>124.3</td>\n",
       "    </tr>\n",
       "    <tr>\n",
       "      <th>57cce8aaddd9bf6acc0d54ffdd68a0ac</th>\n",
       "      <td>84.0</td>\n",
       "      <td>1</td>\n",
       "      <td>350.3</td>\n",
       "    </tr>\n",
       "    <tr>\n",
       "      <th>57cc19a7041c0fddd1b7a65dc03011c6</th>\n",
       "      <td>133.0</td>\n",
       "      <td>1</td>\n",
       "      <td>98.0</td>\n",
       "    </tr>\n",
       "    <tr>\n",
       "      <th>ffffd2657e2aad2907e67c3e9daecbeb</th>\n",
       "      <td>533.0</td>\n",
       "      <td>1</td>\n",
       "      <td>71.6</td>\n",
       "    </tr>\n",
       "  </tbody>\n",
       "</table>\n",
       "<p>96096 rows × 3 columns</p>\n",
       "</div>"
      ],
      "text/plain": [
       "                                  Recency  Frequence  TotalPrice\n",
       "customer_unique_id                                              \n",
       "9a736b248f67d166d2fbb006bcb877c3    437.9         54       394.8\n",
       "8af7ac63b2efbcbd88e5b11505e8098a    546.0         29       458.0\n",
       "569aa12b73b5f7edeaa6f2a01603e381    498.0         26        62.7\n",
       "1d2435aa3b858d45c707c9fc25e18779    639.0         24       233.7\n",
       "90807fdb59eec2152bc977feeb6e47e7    327.0         24       215.7\n",
       "...                                   ...        ...         ...\n",
       "57cd75ea0d4df751cb635cbae8596411    374.0          1       158.1\n",
       "57cd06ab5e1452f461555dda1deb3d5c    257.0          1       124.3\n",
       "57cce8aaddd9bf6acc0d54ffdd68a0ac     84.0          1       350.3\n",
       "57cc19a7041c0fddd1b7a65dc03011c6    133.0          1        98.0\n",
       "ffffd2657e2aad2907e67c3e9daecbeb    533.0          1        71.6\n",
       "\n",
       "[96096 rows x 3 columns]"
      ]
     },
     "execution_count": 202,
     "metadata": {},
     "output_type": "execute_result"
    }
   ],
   "source": [
    "RFM"
   ]
  },
  {
   "cell_type": "markdown",
   "id": "b9e379a8",
   "metadata": {},
   "source": [
    "### Plot RFM distributions"
   ]
  },
  {
   "cell_type": "code",
   "execution_count": 203,
   "id": "69dba445",
   "metadata": {},
   "outputs": [
    {
     "data": {
      "image/png": "[encoded data removed]",
      "text/plain": [
       "<Figure size 2000x1000 with 3 Axes>"
      ]
     },
     "metadata": {},
     "output_type": "display_data"
    }
   ],
   "source": [
    "plt.figure(figsize=(20, 10))\n",
    "\n",
    "plt.subplot(3, 1, 1);\n",
    "sns.histplot(RFM['Recency'])\n",
    "plt.ylabel('Probability', fontsize=12)\n",
    "plt.xlabel('Recency', fontsize=12)\n",
    "\n",
    "plt.subplot(3, 1, 2);\n",
    "sns.histplot(RFM['Frequence'])\n",
    "plt.ylabel('Probability', fontsize=12)\n",
    "plt.xlabel('Frequency', fontsize=12)\n",
    "\n",
    "plt.subplot(3, 1, 3);\n",
    "sns.histplot(RFM[\"TotalPrice\"])\n",
    "plt.ylabel('Probability', fontsize=12)\n",
    "plt.xlabel('TotalPrice', fontsize=12)\n",
    "\n",
    "plt.show()"
   ]
  },
  {
   "cell_type": "markdown",
   "id": "71b6eb0f",
   "metadata": {},
   "source": [
    "### Create R, F and M groups based on Quartiles"
   ]
  },
  {
   "cell_type": "code",
   "execution_count": 204,
   "id": "b86b9b85",
   "metadata": {},
   "outputs": [],
   "source": [
    "# Create R, F and M groups based on Quartiles\n",
    "# Creating labels for each group\n",
    "\n",
    "Rlabel = [4, 3, 2, 1]\n",
    "Mlabel = [1, 2, 3, 4]\n",
    "Flabel = [1, 2, 3, 4]\n",
    "\n",
    "# Splitting metrics into segments by using quartiles\n",
    "Rgrp = pd.qcut(RFM[\"Recency\"], q=4, labels = Rlabel)\n",
    "Mgrp = pd.qcut(RFM[\"TotalPrice\"], q=4, labels = Mlabel)\n",
    "\n",
    "# Define the custom groups for the Frequency column\n",
    "def group_frequency(x):\n",
    "    if x == 1:\n",
    "        return 1\n",
    "    elif 1 < x <= 10:\n",
    "        return 2\n",
    "    elif 10 < x <= 100:\n",
    "        return 3\n",
    "    else:\n",
    "        return 4\n",
    "\n",
    "\n",
    "# Creating new columns and assigning R, F, M segmented values \n",
    "RFM[\"R\"] = Rgrp.values\n",
    "RFM['F'] = RFM['Frequence'].apply(group_frequency)\n",
    "RFM[\"M\"] = Mgrp.values"
   ]
  },
  {
   "cell_type": "markdown",
   "id": "db3bb59a",
   "metadata": {},
   "source": [
    "### Calculate RFM score"
   ]
  },
  {
   "cell_type": "code",
   "execution_count": 205,
   "id": "7453544c",
   "metadata": {},
   "outputs": [
    {
     "data": {
      "text/html": [
       "<div>\n",
       "<style scoped>\n",
       "    .dataframe tbody tr th:only-of-type {\n",
       "        vertical-align: middle;\n",
       "    }\n",
       "\n",
       "    .dataframe tbody tr th {\n",
       "        vertical-align: top;\n",
       "    }\n",
       "\n",
       "    .dataframe thead th {\n",
       "        text-align: right;\n",
       "    }\n",
       "</style>\n",
       "<table border=\"1\" class=\"dataframe\">\n",
       "  <thead>\n",
       "    <tr style=\"text-align: right;\">\n",
       "      <th></th>\n",
       "      <th>Recency</th>\n",
       "      <th>Frequence</th>\n",
       "      <th>TotalPrice</th>\n",
       "      <th>R</th>\n",
       "      <th>F</th>\n",
       "      <th>M</th>\n",
       "      <th>Score</th>\n",
       "    </tr>\n",
       "    <tr>\n",
       "      <th>customer_unique_id</th>\n",
       "      <th></th>\n",
       "      <th></th>\n",
       "      <th></th>\n",
       "      <th></th>\n",
       "      <th></th>\n",
       "      <th></th>\n",
       "      <th></th>\n",
       "    </tr>\n",
       "  </thead>\n",
       "  <tbody>\n",
       "    <tr>\n",
       "      <th>9a736b248f67d166d2fbb006bcb877c3</th>\n",
       "      <td>437.9</td>\n",
       "      <td>54</td>\n",
       "      <td>394.8</td>\n",
       "      <td>1</td>\n",
       "      <td>3</td>\n",
       "      <td>4</td>\n",
       "      <td>8</td>\n",
       "    </tr>\n",
       "    <tr>\n",
       "      <th>8af7ac63b2efbcbd88e5b11505e8098a</th>\n",
       "      <td>546.0</td>\n",
       "      <td>29</td>\n",
       "      <td>458.0</td>\n",
       "      <td>1</td>\n",
       "      <td>3</td>\n",
       "      <td>4</td>\n",
       "      <td>8</td>\n",
       "    </tr>\n",
       "    <tr>\n",
       "      <th>569aa12b73b5f7edeaa6f2a01603e381</th>\n",
       "      <td>498.0</td>\n",
       "      <td>26</td>\n",
       "      <td>62.7</td>\n",
       "      <td>1</td>\n",
       "      <td>3</td>\n",
       "      <td>1</td>\n",
       "      <td>5</td>\n",
       "    </tr>\n",
       "    <tr>\n",
       "      <th>1d2435aa3b858d45c707c9fc25e18779</th>\n",
       "      <td>639.0</td>\n",
       "      <td>24</td>\n",
       "      <td>233.7</td>\n",
       "      <td>1</td>\n",
       "      <td>3</td>\n",
       "      <td>4</td>\n",
       "      <td>8</td>\n",
       "    </tr>\n",
       "    <tr>\n",
       "      <th>90807fdb59eec2152bc977feeb6e47e7</th>\n",
       "      <td>327.0</td>\n",
       "      <td>24</td>\n",
       "      <td>215.7</td>\n",
       "      <td>2</td>\n",
       "      <td>3</td>\n",
       "      <td>4</td>\n",
       "      <td>9</td>\n",
       "    </tr>\n",
       "  </tbody>\n",
       "</table>\n",
       "</div>"
      ],
      "text/plain": [
       "                                  Recency  Frequence  TotalPrice  R  F  M  \\\n",
       "customer_unique_id                                                          \n",
       "9a736b248f67d166d2fbb006bcb877c3    437.9         54       394.8  1  3  4   \n",
       "8af7ac63b2efbcbd88e5b11505e8098a    546.0         29       458.0  1  3  4   \n",
       "569aa12b73b5f7edeaa6f2a01603e381    498.0         26        62.7  1  3  1   \n",
       "1d2435aa3b858d45c707c9fc25e18779    639.0         24       233.7  1  3  4   \n",
       "90807fdb59eec2152bc977feeb6e47e7    327.0         24       215.7  2  3  4   \n",
       "\n",
       "                                  Score  \n",
       "customer_unique_id                       \n",
       "9a736b248f67d166d2fbb006bcb877c3      8  \n",
       "8af7ac63b2efbcbd88e5b11505e8098a      8  \n",
       "569aa12b73b5f7edeaa6f2a01603e381      5  \n",
       "1d2435aa3b858d45c707c9fc25e18779      8  \n",
       "90807fdb59eec2152bc977feeb6e47e7      9  "
      ]
     },
     "metadata": {},
     "output_type": "display_data"
    },
    {
     "name": "stdout",
     "output_type": "stream",
     "text": [
      "Maximum RFM Score :  11\n",
      "Maximum RFM Score :  3\n",
      "1.0\n"
     ]
    }
   ],
   "source": [
    "# Method 1 RFM score - Add a new column to combine RFM score\n",
    "RFM['Score'] = RFM[['R', 'F', 'M']].sum(axis = 1)\n",
    "\n",
    "display(RFM.head())\n",
    "print(\"Maximum RFM Score : \",RFM['Score'].max())\n",
    "print(\"Maximum RFM Score : \",RFM['Score'].min())\n",
    "print(RFM[\"Recency\"].min())"
   ]
  },
  {
   "cell_type": "code",
   "execution_count": 214,
   "id": "1a0cf600",
   "metadata": {},
   "outputs": [
    {
     "data": {
      "text/html": [
       "<div>\n",
       "<style scoped>\n",
       "    .dataframe tbody tr th:only-of-type {\n",
       "        vertical-align: middle;\n",
       "    }\n",
       "\n",
       "    .dataframe tbody tr th {\n",
       "        vertical-align: top;\n",
       "    }\n",
       "\n",
       "    .dataframe thead th {\n",
       "        text-align: right;\n",
       "    }\n",
       "</style>\n",
       "<table border=\"1\" class=\"dataframe\">\n",
       "  <thead>\n",
       "    <tr style=\"text-align: right;\">\n",
       "      <th></th>\n",
       "      <th>Recency</th>\n",
       "      <th>Frequence</th>\n",
       "      <th>TotalPrice</th>\n",
       "      <th>R</th>\n",
       "      <th>F</th>\n",
       "      <th>M</th>\n",
       "      <th>Score</th>\n",
       "      <th>RFM_Concat</th>\n",
       "      <th>RFM_Level</th>\n",
       "    </tr>\n",
       "    <tr>\n",
       "      <th>customer_unique_id</th>\n",
       "      <th></th>\n",
       "      <th></th>\n",
       "      <th></th>\n",
       "      <th></th>\n",
       "      <th></th>\n",
       "      <th></th>\n",
       "      <th></th>\n",
       "      <th></th>\n",
       "      <th></th>\n",
       "    </tr>\n",
       "  </thead>\n",
       "  <tbody>\n",
       "    <tr>\n",
       "      <th>9a736b248f67d166d2fbb006bcb877c3</th>\n",
       "      <td>437.9</td>\n",
       "      <td>54</td>\n",
       "      <td>394.8</td>\n",
       "      <td>1</td>\n",
       "      <td>3</td>\n",
       "      <td>4</td>\n",
       "      <td>8</td>\n",
       "      <td>134</td>\n",
       "      <td>Champions</td>\n",
       "    </tr>\n",
       "    <tr>\n",
       "      <th>8af7ac63b2efbcbd88e5b11505e8098a</th>\n",
       "      <td>546.0</td>\n",
       "      <td>29</td>\n",
       "      <td>458.0</td>\n",
       "      <td>1</td>\n",
       "      <td>3</td>\n",
       "      <td>4</td>\n",
       "      <td>8</td>\n",
       "      <td>134</td>\n",
       "      <td>Champions</td>\n",
       "    </tr>\n",
       "    <tr>\n",
       "      <th>569aa12b73b5f7edeaa6f2a01603e381</th>\n",
       "      <td>498.0</td>\n",
       "      <td>26</td>\n",
       "      <td>62.7</td>\n",
       "      <td>1</td>\n",
       "      <td>3</td>\n",
       "      <td>1</td>\n",
       "      <td>5</td>\n",
       "      <td>131</td>\n",
       "      <td>Promising</td>\n",
       "    </tr>\n",
       "    <tr>\n",
       "      <th>1d2435aa3b858d45c707c9fc25e18779</th>\n",
       "      <td>639.0</td>\n",
       "      <td>24</td>\n",
       "      <td>233.7</td>\n",
       "      <td>1</td>\n",
       "      <td>3</td>\n",
       "      <td>4</td>\n",
       "      <td>8</td>\n",
       "      <td>134</td>\n",
       "      <td>Champions</td>\n",
       "    </tr>\n",
       "    <tr>\n",
       "      <th>90807fdb59eec2152bc977feeb6e47e7</th>\n",
       "      <td>327.0</td>\n",
       "      <td>24</td>\n",
       "      <td>215.7</td>\n",
       "      <td>2</td>\n",
       "      <td>3</td>\n",
       "      <td>4</td>\n",
       "      <td>9</td>\n",
       "      <td>234</td>\n",
       "      <td>Champions</td>\n",
       "    </tr>\n",
       "  </tbody>\n",
       "</table>\n",
       "</div>"
      ],
      "text/plain": [
       "                                  Recency  Frequence  TotalPrice  R  F  M  \\\n",
       "customer_unique_id                                                          \n",
       "9a736b248f67d166d2fbb006bcb877c3    437.9         54       394.8  1  3  4   \n",
       "8af7ac63b2efbcbd88e5b11505e8098a    546.0         29       458.0  1  3  4   \n",
       "569aa12b73b5f7edeaa6f2a01603e381    498.0         26        62.7  1  3  1   \n",
       "1d2435aa3b858d45c707c9fc25e18779    639.0         24       233.7  1  3  4   \n",
       "90807fdb59eec2152bc977feeb6e47e7    327.0         24       215.7  2  3  4   \n",
       "\n",
       "                                  Score RFM_Concat  RFM_Level  \n",
       "customer_unique_id                                             \n",
       "9a736b248f67d166d2fbb006bcb877c3      8        134  Champions  \n",
       "8af7ac63b2efbcbd88e5b11505e8098a      8        134  Champions  \n",
       "569aa12b73b5f7edeaa6f2a01603e381      5        131  Promising  \n",
       "1d2435aa3b858d45c707c9fc25e18779      8        134  Champions  \n",
       "90807fdb59eec2152bc977feeb6e47e7      9        234  Champions  "
      ]
     },
     "metadata": {},
     "output_type": "display_data"
    }
   ],
   "source": [
    "# Method 2 RFM score - Add a new column to combine RFM score\n",
    "RFM[\"RFM_Concat\"] = RFM.apply(lambda x : str(x['R']) + str(x[\"F\"]) + str(x[\"M\"]), axis = 1)\n",
    "display(RFM.head())"
   ]
  },
  {
   "cell_type": "markdown",
   "id": "643f2376",
   "metadata": {},
   "source": [
    "### Segmentation clients base on RFM score"
   ]
  },
  {
   "cell_type": "code",
   "execution_count": 215,
   "id": "4c4cffc8",
   "metadata": {},
   "outputs": [
    {
     "data": {
      "text/html": [
       "<div>\n",
       "<style scoped>\n",
       "    .dataframe tbody tr th:only-of-type {\n",
       "        vertical-align: middle;\n",
       "    }\n",
       "\n",
       "    .dataframe tbody tr th {\n",
       "        vertical-align: top;\n",
       "    }\n",
       "\n",
       "    .dataframe thead th {\n",
       "        text-align: right;\n",
       "    }\n",
       "</style>\n",
       "<table border=\"1\" class=\"dataframe\">\n",
       "  <thead>\n",
       "    <tr style=\"text-align: right;\">\n",
       "      <th></th>\n",
       "      <th>Recency</th>\n",
       "      <th>Frequence</th>\n",
       "      <th>TotalPrice</th>\n",
       "      <th>R</th>\n",
       "      <th>F</th>\n",
       "      <th>M</th>\n",
       "      <th>Score</th>\n",
       "      <th>RFM_Concat</th>\n",
       "      <th>RFM_Level</th>\n",
       "    </tr>\n",
       "    <tr>\n",
       "      <th>customer_unique_id</th>\n",
       "      <th></th>\n",
       "      <th></th>\n",
       "      <th></th>\n",
       "      <th></th>\n",
       "      <th></th>\n",
       "      <th></th>\n",
       "      <th></th>\n",
       "      <th></th>\n",
       "      <th></th>\n",
       "    </tr>\n",
       "  </thead>\n",
       "  <tbody>\n",
       "    <tr>\n",
       "      <th>9a736b248f67d166d2fbb006bcb877c3</th>\n",
       "      <td>437.9</td>\n",
       "      <td>54</td>\n",
       "      <td>394.8</td>\n",
       "      <td>1</td>\n",
       "      <td>3</td>\n",
       "      <td>4</td>\n",
       "      <td>8</td>\n",
       "      <td>134</td>\n",
       "      <td>Champions</td>\n",
       "    </tr>\n",
       "    <tr>\n",
       "      <th>8af7ac63b2efbcbd88e5b11505e8098a</th>\n",
       "      <td>546.0</td>\n",
       "      <td>29</td>\n",
       "      <td>458.0</td>\n",
       "      <td>1</td>\n",
       "      <td>3</td>\n",
       "      <td>4</td>\n",
       "      <td>8</td>\n",
       "      <td>134</td>\n",
       "      <td>Champions</td>\n",
       "    </tr>\n",
       "    <tr>\n",
       "      <th>569aa12b73b5f7edeaa6f2a01603e381</th>\n",
       "      <td>498.0</td>\n",
       "      <td>26</td>\n",
       "      <td>62.7</td>\n",
       "      <td>1</td>\n",
       "      <td>3</td>\n",
       "      <td>1</td>\n",
       "      <td>5</td>\n",
       "      <td>131</td>\n",
       "      <td>Promising</td>\n",
       "    </tr>\n",
       "    <tr>\n",
       "      <th>1d2435aa3b858d45c707c9fc25e18779</th>\n",
       "      <td>639.0</td>\n",
       "      <td>24</td>\n",
       "      <td>233.7</td>\n",
       "      <td>1</td>\n",
       "      <td>3</td>\n",
       "      <td>4</td>\n",
       "      <td>8</td>\n",
       "      <td>134</td>\n",
       "      <td>Champions</td>\n",
       "    </tr>\n",
       "    <tr>\n",
       "      <th>90807fdb59eec2152bc977feeb6e47e7</th>\n",
       "      <td>327.0</td>\n",
       "      <td>24</td>\n",
       "      <td>215.7</td>\n",
       "      <td>2</td>\n",
       "      <td>3</td>\n",
       "      <td>4</td>\n",
       "      <td>9</td>\n",
       "      <td>234</td>\n",
       "      <td>Champions</td>\n",
       "    </tr>\n",
       "  </tbody>\n",
       "</table>\n",
       "</div>"
      ],
      "text/plain": [
       "                                  Recency  Frequence  TotalPrice  R  F  M  \\\n",
       "customer_unique_id                                                          \n",
       "9a736b248f67d166d2fbb006bcb877c3    437.9         54       394.8  1  3  4   \n",
       "8af7ac63b2efbcbd88e5b11505e8098a    546.0         29       458.0  1  3  4   \n",
       "569aa12b73b5f7edeaa6f2a01603e381    498.0         26        62.7  1  3  1   \n",
       "1d2435aa3b858d45c707c9fc25e18779    639.0         24       233.7  1  3  4   \n",
       "90807fdb59eec2152bc977feeb6e47e7    327.0         24       215.7  2  3  4   \n",
       "\n",
       "                                  Score RFM_Concat  RFM_Level  \n",
       "customer_unique_id                                             \n",
       "9a736b248f67d166d2fbb006bcb877c3      8        134  Champions  \n",
       "8af7ac63b2efbcbd88e5b11505e8098a      8        134  Champions  \n",
       "569aa12b73b5f7edeaa6f2a01603e381      5        131  Promising  \n",
       "1d2435aa3b858d45c707c9fc25e18779      8        134  Champions  \n",
       "90807fdb59eec2152bc977feeb6e47e7      9        234  Champions  "
      ]
     },
     "metadata": {},
     "output_type": "display_data"
    }
   ],
   "source": [
    "# Adding customer in each segment bins to based on RFM score\n",
    "def rfm_level(df):\n",
    "    if(df['Score'] >= 10):\n",
    "        return 'Goat'\n",
    "    elif (df['Score'] <= 9) and (df['Score'] >= 7): return 'Champions'\n",
    "    elif (df['Score'] < 7) and (df['Score'] >= 5): return 'Promising'\n",
    "    elif (df['Score'] < 5) and (df['Score'] >= 3): return 'Needs Attention'\n",
    "    \n",
    "    else: return 'Requires activation'\n",
    "    \n",
    "RFM['RFM_Level'] = RFM.apply(rfm_level, axis = 1)\n",
    "display(RFM.head())"
   ]
  },
  {
   "cell_type": "markdown",
   "id": "a6d625b7",
   "metadata": {},
   "source": [
    "Proportions des catégories"
   ]
  },
  {
   "cell_type": "code",
   "execution_count": 216,
   "id": "fc0e5afe",
   "metadata": {},
   "outputs": [
    {
     "data": {
      "text/plain": [
       "Promising          0.422671\n",
       "Champions          0.387581\n",
       "Needs Attention    0.182973\n",
       "Goat               0.006774\n",
       "Name: RFM_Level, dtype: float64"
      ]
     },
     "execution_count": 216,
     "metadata": {},
     "output_type": "execute_result"
    }
   ],
   "source": [
    "RFM[\"RFM_Level\"].value_counts(normalize=True)"
   ]
  },
  {
   "cell_type": "markdown",
   "id": "be1b05e2",
   "metadata": {},
   "source": [
    "Ne pas oublier de mieux équilibrer les segmentations "
   ]
  },
  {
   "cell_type": "markdown",
   "id": "ee7972f3",
   "metadata": {},
   "source": [
    "### Calculating mean in each segment for better segment stats"
   ]
  },
  {
   "cell_type": "code",
   "execution_count": 217,
   "id": "cec59998",
   "metadata": {
    "scrolled": true
   },
   "outputs": [
    {
     "data": {
      "text/html": [
       "<div>\n",
       "<style scoped>\n",
       "    .dataframe tbody tr th:only-of-type {\n",
       "        vertical-align: middle;\n",
       "    }\n",
       "\n",
       "    .dataframe tbody tr th {\n",
       "        vertical-align: top;\n",
       "    }\n",
       "\n",
       "    .dataframe thead th {\n",
       "        text-align: right;\n",
       "    }\n",
       "</style>\n",
       "<table border=\"1\" class=\"dataframe\">\n",
       "  <thead>\n",
       "    <tr style=\"text-align: right;\">\n",
       "      <th></th>\n",
       "      <th>RFM_Level</th>\n",
       "      <th>Recency_Mean</th>\n",
       "      <th>Frequence_mean</th>\n",
       "      <th>TotalPrice_mean</th>\n",
       "      <th>TotalPrice_count</th>\n",
       "    </tr>\n",
       "  </thead>\n",
       "  <tbody>\n",
       "    <tr>\n",
       "      <th>0</th>\n",
       "      <td>Champions</td>\n",
       "      <td>192.5</td>\n",
       "      <td>1.2</td>\n",
       "      <td>260.4</td>\n",
       "      <td>37245</td>\n",
       "    </tr>\n",
       "    <tr>\n",
       "      <th>1</th>\n",
       "      <td>Goat</td>\n",
       "      <td>111.3</td>\n",
       "      <td>2.3</td>\n",
       "      <td>528.3</td>\n",
       "      <td>651</td>\n",
       "    </tr>\n",
       "    <tr>\n",
       "      <th>2</th>\n",
       "      <td>Needs Attention</td>\n",
       "      <td>447.7</td>\n",
       "      <td>1.0</td>\n",
       "      <td>57.2</td>\n",
       "      <td>17583</td>\n",
       "    </tr>\n",
       "    <tr>\n",
       "      <th>3</th>\n",
       "      <td>Promising</td>\n",
       "      <td>314.3</td>\n",
       "      <td>1.1</td>\n",
       "      <td>129.1</td>\n",
       "      <td>40617</td>\n",
       "    </tr>\n",
       "  </tbody>\n",
       "</table>\n",
       "</div>"
      ],
      "text/plain": [
       "         RFM_Level  Recency_Mean  Frequence_mean  TotalPrice_mean  \\\n",
       "0        Champions         192.5             1.2            260.4   \n",
       "1             Goat         111.3             2.3            528.3   \n",
       "2  Needs Attention         447.7             1.0             57.2   \n",
       "3        Promising         314.3             1.1            129.1   \n",
       "\n",
       "   TotalPrice_count  \n",
       "0             37245  \n",
       "1               651  \n",
       "2             17583  \n",
       "3             40617  "
      ]
     },
     "metadata": {},
     "output_type": "display_data"
    }
   ],
   "source": [
    "# Calculating mean in each segment bins for better segment stats\n",
    "RFM_stats = RFM.groupby('RFM_Level').agg({\n",
    "    'Recency' : 'mean',\n",
    "    'Frequence' : 'mean',\n",
    "    'TotalPrice' : ['mean', 'count']\n",
    "}).round(1)\n",
    "\n",
    "# RFM_stats.columns = RFM_stats.columns.droplevel()\n",
    "RFM_stats.columns = ['Recency_Mean', 'Frequence_mean', 'TotalPrice_mean', 'TotalPrice_count']\n",
    "RFM_stats = RFM_stats.reset_index()\n",
    "display(RFM_stats)"
   ]
  },
  {
   "cell_type": "markdown",
   "id": "20eb95b9",
   "metadata": {},
   "source": [
    "### Plotting a map based on segment stats for better understanding"
   ]
  },
  {
   "cell_type": "code",
   "execution_count": 218,
   "id": "2d04b3ff",
   "metadata": {},
   "outputs": [
    {
     "data": {
      "image/png": "[encoded data removed]",
      "text/plain": [
       "<Figure size 1600x900 with 1 Axes>"
      ]
     },
     "metadata": {},
     "output_type": "display_data"
    }
   ],
   "source": [
    "# Plotting a map based on segment stats\n",
    "fig = plt.gcf()\n",
    "ax = fig.add_subplot()\n",
    "fig.set_size_inches(16, 9)\n",
    "squarify.plot(sizes=RFM_stats[\"TotalPrice_count\"],\n",
    "              label=['Champions', 'Goat - Can\\'t Loose Them', 'Needs Attention', 'Promising'],\n",
    "              text_kwargs={'color':'white'})\n",
    "plt.title(\"Segmentation RFM\", fontsize=22, fontweight=\"bold\")\n",
    "plt.axis(\"off\")\n",
    "plt.show()"
   ]
  },
  {
   "cell_type": "markdown",
   "id": "3aefd41e",
   "metadata": {},
   "source": [
    "# Cohorts"
   ]
  },
  {
   "cell_type": "code",
   "execution_count": 219,
   "id": "191aee60",
   "metadata": {},
   "outputs": [
    {
     "data": {
      "image/png": "[encoded data removed]",
      "text/plain": [
       "<Figure size 1800x800 with 3 Axes>"
      ]
     },
     "metadata": {},
     "output_type": "display_data"
    }
   ],
   "source": [
    "test = df[['customer_unique_id', 'order_id', 'order_purchase_timestamp']].drop_duplicates()\n",
    "\n",
    "\n",
    "test['order_month'] = test['order_purchase_timestamp'].dt.to_period('M')\n",
    "test['cohort'] = test.groupby('customer_unique_id')['order_purchase_timestamp'] \\\n",
    "                 .transform('min') \\\n",
    "                 .dt.to_period('M') \n",
    "\n",
    "\n",
    "df_cohort = test.groupby(['cohort', 'order_month']) \\\n",
    "              .agg(n_customers=('customer_unique_id', 'nunique')) \\\n",
    "              .reset_index(drop=False)\n",
    "df_cohort['period_number'] = (df_cohort.order_month - df_cohort.cohort).apply(attrgetter('n'))\n",
    "\n",
    "\n",
    "cohort_pivot = df_cohort.pivot_table(index = 'cohort',\n",
    "                                     columns = 'period_number',\n",
    "                                     values = 'n_customers')\n",
    "\n",
    "\n",
    "cohort_size = cohort_pivot.iloc[:,0]\n",
    "retention_matrix = cohort_pivot.divide(cohort_size, axis = 0)\n",
    "\n",
    "\n",
    "with sns.axes_style(\"white\"):\n",
    "    fig, ax = plt.subplots(1, 2, figsize=(18, 8), sharey=True, gridspec_kw={'width_ratios': [1, 11]})\n",
    "    \n",
    "    # retention matrix\n",
    "    sns.heatmap(retention_matrix, \n",
    "                mask=retention_matrix.isnull(), \n",
    "                annot=True, \n",
    "                fmt='.1%', \n",
    "                cmap='Blues', \n",
    "                ax=ax[1])\n",
    "    ax[1].set_title('Yearly Cohorts: User Retention', fontsize=16)\n",
    "    ax[1].set(xlabel='# of periods',\n",
    "              ylabel='')\n",
    "\n",
    "    # cohort size\n",
    "    cohort_size_df = pd.DataFrame(cohort_size).rename(columns={0: 'cohort_size'})\n",
    "    white_cmap = mcolors.ListedColormap(['white'])\n",
    "    sns.heatmap(cohort_size_df, \n",
    "                annot=True, \n",
    "                cbar=False, \n",
    "                fmt='g', \n",
    "                cmap='Blues', \n",
    "                ax=ax[0])\n",
    "    \n",
    "    fig.tight_layout()"
   ]
  }
 ],
 "metadata": {
  "kernelspec": {
   "display_name": "Python 3 (ipykernel)",
   "language": "python",
   "name": "python3"
  },
  "language_info": {
   "codemirror_mode": {
    "name": "ipython",
    "version": 3
   },
   "file_extension": ".py",
   "mimetype": "text/x-python",
   "name": "python",
   "nbconvert_exporter": "python",
   "pygments_lexer": "ipython3",
   "version": "3.8.12"
  },
  "toc": {
   "base_numbering": 1,
   "nav_menu": {},
   "number_sections": true,
   "sideBar": true,
   "skip_h1_title": false,
   "title_cell": "Table of Contents",
   "title_sidebar": "Contents",
   "toc_cell": false,
   "toc_position": {},
   "toc_section_display": true,
   "toc_window_display": false
  }
 },
 "nbformat": 4,
 "nbformat_minor": 5
}
